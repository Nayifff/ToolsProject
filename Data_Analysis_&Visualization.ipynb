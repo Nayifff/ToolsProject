{
 "cells": [
  {
   "cell_type": "markdown",
   "metadata": {},
   "source": [
    "### This notebook is intended for Data Analysis & Visualization. We figured we couldn't use top songs from 1960 to 2017 since people's preferences changed throughout the years; thus, we decided to use the years in which top 100 songs were similar (i.g. 2005-2017). The goal of this notebook is to visualize the top 100 songs and figure out a threshold (a certain year) to consider the years after only.\n",
    "\n",
    "#### Work by: Naif"
   ]
  },
  {
   "cell_type": "code",
   "execution_count": 398,
   "metadata": {},
   "outputs": [
    {
     "name": "stderr",
     "output_type": "stream",
     "text": [
      "/Users/Naif/anaconda3/lib/python3.6/site-packages/ipykernel_launcher.py:19: DeprecationWarning: \n",
      ".ix is deprecated. Please use\n",
      ".loc for label based indexing or\n",
      ".iloc for positional indexing\n",
      "\n",
      "See the documentation here:\n",
      "http://pandas.pydata.org/pandas-docs/stable/indexing.html#ix-indexer-is-deprecated\n"
     ]
    },
    {
     "data": {
      "text/html": [
       "<div>\n",
       "<style scoped>\n",
       "    .dataframe tbody tr th:only-of-type {\n",
       "        vertical-align: middle;\n",
       "    }\n",
       "\n",
       "    .dataframe tbody tr th {\n",
       "        vertical-align: top;\n",
       "    }\n",
       "\n",
       "    .dataframe thead th {\n",
       "        text-align: right;\n",
       "    }\n",
       "</style>\n",
       "<table border=\"1\" class=\"dataframe\">\n",
       "  <thead>\n",
       "    <tr style=\"text-align: right;\">\n",
       "      <th></th>\n",
       "      <th>1960</th>\n",
       "      <th>1961</th>\n",
       "      <th>1962</th>\n",
       "      <th>1963</th>\n",
       "      <th>1964</th>\n",
       "      <th>1965</th>\n",
       "      <th>1966</th>\n",
       "      <th>1967</th>\n",
       "      <th>1968</th>\n",
       "      <th>1969</th>\n",
       "      <th>...</th>\n",
       "      <th>2008</th>\n",
       "      <th>2009</th>\n",
       "      <th>2010</th>\n",
       "      <th>2011</th>\n",
       "      <th>2012</th>\n",
       "      <th>2013</th>\n",
       "      <th>2014</th>\n",
       "      <th>2015</th>\n",
       "      <th>2016</th>\n",
       "      <th>2017</th>\n",
       "    </tr>\n",
       "  </thead>\n",
       "  <tbody>\n",
       "    <tr>\n",
       "      <th>Danceability</th>\n",
       "      <td>0.489000</td>\n",
       "      <td>NaN</td>\n",
       "      <td>0.490640</td>\n",
       "      <td>0.489970</td>\n",
       "      <td>0.477830</td>\n",
       "      <td>0.449400</td>\n",
       "      <td>0.503910</td>\n",
       "      <td>0.476000</td>\n",
       "      <td>0.535140</td>\n",
       "      <td>0.488139</td>\n",
       "      <td>...</td>\n",
       "      <td>0.383000</td>\n",
       "      <td>0.483060</td>\n",
       "      <td>0.409630</td>\n",
       "      <td>0.404939</td>\n",
       "      <td>0.479790</td>\n",
       "      <td>0.386150</td>\n",
       "      <td>0.404640</td>\n",
       "      <td>0.399570</td>\n",
       "      <td>0.381091</td>\n",
       "      <td>0.388780</td>\n",
       "    </tr>\n",
       "    <tr>\n",
       "      <th>Energy</th>\n",
       "      <td>0.413106</td>\n",
       "      <td>NaN</td>\n",
       "      <td>0.435865</td>\n",
       "      <td>0.464367</td>\n",
       "      <td>0.494910</td>\n",
       "      <td>0.467460</td>\n",
       "      <td>0.508490</td>\n",
       "      <td>0.451753</td>\n",
       "      <td>0.517800</td>\n",
       "      <td>0.457733</td>\n",
       "      <td>...</td>\n",
       "      <td>0.440710</td>\n",
       "      <td>0.548790</td>\n",
       "      <td>0.481790</td>\n",
       "      <td>0.478879</td>\n",
       "      <td>0.545600</td>\n",
       "      <td>0.442860</td>\n",
       "      <td>0.472940</td>\n",
       "      <td>0.413530</td>\n",
       "      <td>0.362530</td>\n",
       "      <td>0.336690</td>\n",
       "    </tr>\n",
       "    <tr>\n",
       "      <th>Key</th>\n",
       "      <td>4.570000</td>\n",
       "      <td>NaN</td>\n",
       "      <td>4.910000</td>\n",
       "      <td>4.610000</td>\n",
       "      <td>4.130000</td>\n",
       "      <td>4.270000</td>\n",
       "      <td>4.650000</td>\n",
       "      <td>4.750000</td>\n",
       "      <td>4.600000</td>\n",
       "      <td>4.881188</td>\n",
       "      <td>...</td>\n",
       "      <td>3.570000</td>\n",
       "      <td>3.980000</td>\n",
       "      <td>3.550000</td>\n",
       "      <td>3.606061</td>\n",
       "      <td>4.030000</td>\n",
       "      <td>3.260000</td>\n",
       "      <td>3.820000</td>\n",
       "      <td>3.090000</td>\n",
       "      <td>3.353535</td>\n",
       "      <td>2.890000</td>\n",
       "    </tr>\n",
       "    <tr>\n",
       "      <th>Loudness</th>\n",
       "      <td>-9.484320</td>\n",
       "      <td>NaN</td>\n",
       "      <td>-9.334750</td>\n",
       "      <td>-9.095250</td>\n",
       "      <td>-8.115800</td>\n",
       "      <td>-7.992950</td>\n",
       "      <td>-9.033770</td>\n",
       "      <td>-8.717020</td>\n",
       "      <td>-9.922240</td>\n",
       "      <td>-9.705594</td>\n",
       "      <td>...</td>\n",
       "      <td>-3.344240</td>\n",
       "      <td>-4.112590</td>\n",
       "      <td>-3.317470</td>\n",
       "      <td>-3.413303</td>\n",
       "      <td>-3.825920</td>\n",
       "      <td>-3.561850</td>\n",
       "      <td>-3.663270</td>\n",
       "      <td>-3.662690</td>\n",
       "      <td>-3.798697</td>\n",
       "      <td>-3.700640</td>\n",
       "    </tr>\n",
       "    <tr>\n",
       "      <th>Mode</th>\n",
       "      <td>0.740000</td>\n",
       "      <td>NaN</td>\n",
       "      <td>0.730000</td>\n",
       "      <td>0.780000</td>\n",
       "      <td>0.700000</td>\n",
       "      <td>0.700000</td>\n",
       "      <td>0.730000</td>\n",
       "      <td>0.740000</td>\n",
       "      <td>0.740000</td>\n",
       "      <td>0.633663</td>\n",
       "      <td>...</td>\n",
       "      <td>0.410000</td>\n",
       "      <td>0.540000</td>\n",
       "      <td>0.480000</td>\n",
       "      <td>0.484848</td>\n",
       "      <td>0.480000</td>\n",
       "      <td>0.480000</td>\n",
       "      <td>0.510000</td>\n",
       "      <td>0.420000</td>\n",
       "      <td>0.313131</td>\n",
       "      <td>0.320000</td>\n",
       "    </tr>\n",
       "    <tr>\n",
       "      <th>Speechiness</th>\n",
       "      <td>0.040324</td>\n",
       "      <td>NaN</td>\n",
       "      <td>0.056994</td>\n",
       "      <td>0.047608</td>\n",
       "      <td>0.042226</td>\n",
       "      <td>0.035006</td>\n",
       "      <td>0.043711</td>\n",
       "      <td>0.035233</td>\n",
       "      <td>0.050682</td>\n",
       "      <td>0.043138</td>\n",
       "      <td>...</td>\n",
       "      <td>0.043586</td>\n",
       "      <td>0.057141</td>\n",
       "      <td>0.052024</td>\n",
       "      <td>0.047791</td>\n",
       "      <td>0.055241</td>\n",
       "      <td>0.040328</td>\n",
       "      <td>0.048153</td>\n",
       "      <td>0.047706</td>\n",
       "      <td>0.066766</td>\n",
       "      <td>0.073113</td>\n",
       "    </tr>\n",
       "    <tr>\n",
       "      <th>Acousticness</th>\n",
       "      <td>0.566610</td>\n",
       "      <td>NaN</td>\n",
       "      <td>0.543047</td>\n",
       "      <td>0.514481</td>\n",
       "      <td>0.419121</td>\n",
       "      <td>0.372830</td>\n",
       "      <td>0.332742</td>\n",
       "      <td>0.359521</td>\n",
       "      <td>0.369842</td>\n",
       "      <td>0.317558</td>\n",
       "      <td>...</td>\n",
       "      <td>0.084854</td>\n",
       "      <td>0.112075</td>\n",
       "      <td>0.082303</td>\n",
       "      <td>0.075305</td>\n",
       "      <td>0.089730</td>\n",
       "      <td>0.072982</td>\n",
       "      <td>0.109374</td>\n",
       "      <td>0.104045</td>\n",
       "      <td>0.109128</td>\n",
       "      <td>0.083173</td>\n",
       "    </tr>\n",
       "    <tr>\n",
       "      <th>Instrumentalness</th>\n",
       "      <td>0.048543</td>\n",
       "      <td>NaN</td>\n",
       "      <td>0.087735</td>\n",
       "      <td>0.058330</td>\n",
       "      <td>0.050834</td>\n",
       "      <td>0.045779</td>\n",
       "      <td>0.039249</td>\n",
       "      <td>0.032298</td>\n",
       "      <td>0.094358</td>\n",
       "      <td>0.042971</td>\n",
       "      <td>...</td>\n",
       "      <td>0.004049</td>\n",
       "      <td>0.004352</td>\n",
       "      <td>0.003222</td>\n",
       "      <td>0.010889</td>\n",
       "      <td>0.001056</td>\n",
       "      <td>0.006367</td>\n",
       "      <td>0.016141</td>\n",
       "      <td>0.000864</td>\n",
       "      <td>0.000210</td>\n",
       "      <td>0.002579</td>\n",
       "    </tr>\n",
       "    <tr>\n",
       "      <th>Liveness</th>\n",
       "      <td>0.165501</td>\n",
       "      <td>NaN</td>\n",
       "      <td>0.179790</td>\n",
       "      <td>0.195951</td>\n",
       "      <td>0.172986</td>\n",
       "      <td>0.185192</td>\n",
       "      <td>0.187884</td>\n",
       "      <td>0.163972</td>\n",
       "      <td>0.205469</td>\n",
       "      <td>0.168514</td>\n",
       "      <td>...</td>\n",
       "      <td>0.106794</td>\n",
       "      <td>0.139108</td>\n",
       "      <td>0.122723</td>\n",
       "      <td>0.123221</td>\n",
       "      <td>0.127491</td>\n",
       "      <td>0.118775</td>\n",
       "      <td>0.114273</td>\n",
       "      <td>0.098428</td>\n",
       "      <td>0.092732</td>\n",
       "      <td>0.074828</td>\n",
       "    </tr>\n",
       "    <tr>\n",
       "      <th>Valence</th>\n",
       "      <td>0.607760</td>\n",
       "      <td>NaN</td>\n",
       "      <td>0.599960</td>\n",
       "      <td>0.630870</td>\n",
       "      <td>0.607148</td>\n",
       "      <td>0.545360</td>\n",
       "      <td>0.638650</td>\n",
       "      <td>0.563650</td>\n",
       "      <td>0.631228</td>\n",
       "      <td>0.575891</td>\n",
       "      <td>...</td>\n",
       "      <td>0.310827</td>\n",
       "      <td>0.403300</td>\n",
       "      <td>0.363190</td>\n",
       "      <td>0.356632</td>\n",
       "      <td>0.418420</td>\n",
       "      <td>0.320340</td>\n",
       "      <td>0.333729</td>\n",
       "      <td>0.308520</td>\n",
       "      <td>0.272071</td>\n",
       "      <td>0.266971</td>\n",
       "    </tr>\n",
       "    <tr>\n",
       "      <th>Tempo</th>\n",
       "      <td>101.604560</td>\n",
       "      <td>NaN</td>\n",
       "      <td>109.999860</td>\n",
       "      <td>104.130090</td>\n",
       "      <td>106.619450</td>\n",
       "      <td>98.936200</td>\n",
       "      <td>109.786580</td>\n",
       "      <td>105.316960</td>\n",
       "      <td>111.753800</td>\n",
       "      <td>104.431248</td>\n",
       "      <td>...</td>\n",
       "      <td>78.190260</td>\n",
       "      <td>94.935030</td>\n",
       "      <td>77.620080</td>\n",
       "      <td>82.838717</td>\n",
       "      <td>92.758110</td>\n",
       "      <td>77.073340</td>\n",
       "      <td>84.063670</td>\n",
       "      <td>78.949100</td>\n",
       "      <td>72.227212</td>\n",
       "      <td>66.442380</td>\n",
       "    </tr>\n",
       "    <tr>\n",
       "      <th>Duration_ms</th>\n",
       "      <td>134529.020000</td>\n",
       "      <td>NaN</td>\n",
       "      <td>143063.130000</td>\n",
       "      <td>138029.550000</td>\n",
       "      <td>132114.190000</td>\n",
       "      <td>141627.030000</td>\n",
       "      <td>150088.020000</td>\n",
       "      <td>153309.780000</td>\n",
       "      <td>187214.920000</td>\n",
       "      <td>174862.930693</td>\n",
       "      <td>...</td>\n",
       "      <td>143530.050000</td>\n",
       "      <td>181037.620000</td>\n",
       "      <td>153727.970000</td>\n",
       "      <td>149100.202020</td>\n",
       "      <td>165707.090000</td>\n",
       "      <td>139955.140000</td>\n",
       "      <td>156959.520000</td>\n",
       "      <td>133038.070000</td>\n",
       "      <td>130718.838384</td>\n",
       "      <td>121002.450000</td>\n",
       "    </tr>\n",
       "    <tr>\n",
       "      <th>Time_Signature</th>\n",
       "      <td>3.320000</td>\n",
       "      <td>NaN</td>\n",
       "      <td>3.420000</td>\n",
       "      <td>3.480000</td>\n",
       "      <td>3.320000</td>\n",
       "      <td>3.240000</td>\n",
       "      <td>3.560000</td>\n",
       "      <td>3.450000</td>\n",
       "      <td>3.710000</td>\n",
       "      <td>3.495050</td>\n",
       "      <td>...</td>\n",
       "      <td>2.480000</td>\n",
       "      <td>3.080000</td>\n",
       "      <td>2.620000</td>\n",
       "      <td>2.585859</td>\n",
       "      <td>2.940000</td>\n",
       "      <td>2.540000</td>\n",
       "      <td>2.680000</td>\n",
       "      <td>2.470000</td>\n",
       "      <td>2.323232</td>\n",
       "      <td>2.230000</td>\n",
       "    </tr>\n",
       "  </tbody>\n",
       "</table>\n",
       "<p>13 rows × 58 columns</p>\n",
       "</div>"
      ],
      "text/plain": [
       "                           1960  1961           1962           1963  \\\n",
       "Danceability           0.489000   NaN       0.490640       0.489970   \n",
       "Energy                 0.413106   NaN       0.435865       0.464367   \n",
       "Key                    4.570000   NaN       4.910000       4.610000   \n",
       "Loudness              -9.484320   NaN      -9.334750      -9.095250   \n",
       "Mode                   0.740000   NaN       0.730000       0.780000   \n",
       "Speechiness            0.040324   NaN       0.056994       0.047608   \n",
       "Acousticness           0.566610   NaN       0.543047       0.514481   \n",
       "Instrumentalness       0.048543   NaN       0.087735       0.058330   \n",
       "Liveness               0.165501   NaN       0.179790       0.195951   \n",
       "Valence                0.607760   NaN       0.599960       0.630870   \n",
       "Tempo                101.604560   NaN     109.999860     104.130090   \n",
       "Duration_ms       134529.020000   NaN  143063.130000  138029.550000   \n",
       "Time_Signature         3.320000   NaN       3.420000       3.480000   \n",
       "\n",
       "                           1964           1965           1966           1967  \\\n",
       "Danceability           0.477830       0.449400       0.503910       0.476000   \n",
       "Energy                 0.494910       0.467460       0.508490       0.451753   \n",
       "Key                    4.130000       4.270000       4.650000       4.750000   \n",
       "Loudness              -8.115800      -7.992950      -9.033770      -8.717020   \n",
       "Mode                   0.700000       0.700000       0.730000       0.740000   \n",
       "Speechiness            0.042226       0.035006       0.043711       0.035233   \n",
       "Acousticness           0.419121       0.372830       0.332742       0.359521   \n",
       "Instrumentalness       0.050834       0.045779       0.039249       0.032298   \n",
       "Liveness               0.172986       0.185192       0.187884       0.163972   \n",
       "Valence                0.607148       0.545360       0.638650       0.563650   \n",
       "Tempo                106.619450      98.936200     109.786580     105.316960   \n",
       "Duration_ms       132114.190000  141627.030000  150088.020000  153309.780000   \n",
       "Time_Signature         3.320000       3.240000       3.560000       3.450000   \n",
       "\n",
       "                           1968           1969      ...                 2008  \\\n",
       "Danceability           0.535140       0.488139      ...             0.383000   \n",
       "Energy                 0.517800       0.457733      ...             0.440710   \n",
       "Key                    4.600000       4.881188      ...             3.570000   \n",
       "Loudness              -9.922240      -9.705594      ...            -3.344240   \n",
       "Mode                   0.740000       0.633663      ...             0.410000   \n",
       "Speechiness            0.050682       0.043138      ...             0.043586   \n",
       "Acousticness           0.369842       0.317558      ...             0.084854   \n",
       "Instrumentalness       0.094358       0.042971      ...             0.004049   \n",
       "Liveness               0.205469       0.168514      ...             0.106794   \n",
       "Valence                0.631228       0.575891      ...             0.310827   \n",
       "Tempo                111.753800     104.431248      ...            78.190260   \n",
       "Duration_ms       187214.920000  174862.930693      ...        143530.050000   \n",
       "Time_Signature         3.710000       3.495050      ...             2.480000   \n",
       "\n",
       "                           2009           2010           2011           2012  \\\n",
       "Danceability           0.483060       0.409630       0.404939       0.479790   \n",
       "Energy                 0.548790       0.481790       0.478879       0.545600   \n",
       "Key                    3.980000       3.550000       3.606061       4.030000   \n",
       "Loudness              -4.112590      -3.317470      -3.413303      -3.825920   \n",
       "Mode                   0.540000       0.480000       0.484848       0.480000   \n",
       "Speechiness            0.057141       0.052024       0.047791       0.055241   \n",
       "Acousticness           0.112075       0.082303       0.075305       0.089730   \n",
       "Instrumentalness       0.004352       0.003222       0.010889       0.001056   \n",
       "Liveness               0.139108       0.122723       0.123221       0.127491   \n",
       "Valence                0.403300       0.363190       0.356632       0.418420   \n",
       "Tempo                 94.935030      77.620080      82.838717      92.758110   \n",
       "Duration_ms       181037.620000  153727.970000  149100.202020  165707.090000   \n",
       "Time_Signature         3.080000       2.620000       2.585859       2.940000   \n",
       "\n",
       "                           2013           2014           2015           2016  \\\n",
       "Danceability           0.386150       0.404640       0.399570       0.381091   \n",
       "Energy                 0.442860       0.472940       0.413530       0.362530   \n",
       "Key                    3.260000       3.820000       3.090000       3.353535   \n",
       "Loudness              -3.561850      -3.663270      -3.662690      -3.798697   \n",
       "Mode                   0.480000       0.510000       0.420000       0.313131   \n",
       "Speechiness            0.040328       0.048153       0.047706       0.066766   \n",
       "Acousticness           0.072982       0.109374       0.104045       0.109128   \n",
       "Instrumentalness       0.006367       0.016141       0.000864       0.000210   \n",
       "Liveness               0.118775       0.114273       0.098428       0.092732   \n",
       "Valence                0.320340       0.333729       0.308520       0.272071   \n",
       "Tempo                 77.073340      84.063670      78.949100      72.227212   \n",
       "Duration_ms       139955.140000  156959.520000  133038.070000  130718.838384   \n",
       "Time_Signature         2.540000       2.680000       2.470000       2.323232   \n",
       "\n",
       "                           2017  \n",
       "Danceability           0.388780  \n",
       "Energy                 0.336690  \n",
       "Key                    2.890000  \n",
       "Loudness              -3.700640  \n",
       "Mode                   0.320000  \n",
       "Speechiness            0.073113  \n",
       "Acousticness           0.083173  \n",
       "Instrumentalness       0.002579  \n",
       "Liveness               0.074828  \n",
       "Valence                0.266971  \n",
       "Tempo                 66.442380  \n",
       "Duration_ms       121002.450000  \n",
       "Time_Signature         2.230000  \n",
       "\n",
       "[13 rows x 58 columns]"
      ]
     },
     "execution_count": 398,
     "metadata": {},
     "output_type": "execute_result"
    }
   ],
   "source": [
    "import pandas as pd\n",
    "import seaborn as sns\n",
    "import sys\n",
    "import numpy as np \n",
    "\n",
    "# Read csv file and drop the unnamed column \n",
    "data = pd.read_csv(\"spotify_project.csv\",sep='\\t', header=0)\n",
    "data = data.drop(columns = \"Unnamed: 0\")\n",
    "\n",
    "# Create a zeros array to store averages later \n",
    "a=np.zeros((14,58))\n",
    "\n",
    "df = pd.DataFrame(data[data['Year']==1960].mean())\n",
    "means = pd.DataFrame(a, columns=range(1960,2018))\n",
    "\n",
    "for year in range(1960,2018):\n",
    "    df = pd.DataFrame(data[data['Year']==year].mean())\n",
    "    for i in range(0,14):\n",
    "        means.ix[i,year]=df.ix[i,0]\n",
    "means=means.drop([0])\n",
    "\n",
    "indexxx=df.index.values\n",
    "newindex = list(filter(lambda x : x != 'Year', indexxx))\n",
    "\n",
    "means.index=newindex\n",
    "\n",
    "means"
   ]
  },
  {
   "cell_type": "markdown",
   "metadata": {},
   "source": [
    "### After getting the average for each feature for each year we plot hisotgrams for each feature: "
   ]
  },
  {
   "cell_type": "code",
   "execution_count": 386,
   "metadata": {},
   "outputs": [
    {
     "name": "stderr",
     "output_type": "stream",
     "text": [
      "/Users/Naif/anaconda3/lib/python3.6/site-packages/ipykernel_launcher.py:3: DeprecationWarning: \n",
      ".ix is deprecated. Please use\n",
      ".loc for label based indexing or\n",
      ".iloc for positional indexing\n",
      "\n",
      "See the documentation here:\n",
      "http://pandas.pydata.org/pandas-docs/stable/indexing.html#ix-indexer-is-deprecated\n",
      "  This is separate from the ipykernel package so we can avoid doing imports until\n"
     ]
    },
    {
     "data": {
      "text/plain": [
       "Text(0,0.5,'Danceability')"
      ]
     },
     "execution_count": 386,
     "metadata": {},
     "output_type": "execute_result"
    },
    {
     "data": {
      "image/png": "[encoded data removed]",
      "text/plain": [
       "<Figure size 432x288 with 1 Axes>"
      ]
     },
     "metadata": {},
     "output_type": "display_data"
    }
   ],
   "source": [
    "import matplotlib.pyplot as plt\n",
    "\n",
    "y=list(pd.Series(means.ix['Danceability',:]))\n",
    "x=list(range(1960,2018))\n",
    "\n",
    "plt.bar(x,y,align='center')\n",
    "plt.title('Danceability Vs Years')\n",
    "plt.xlabel('Years')\n",
    "plt.ylabel('Danceability')"
   ]
  },
  {
   "cell_type": "code",
   "execution_count": 388,
   "metadata": {},
   "outputs": [
    {
     "name": "stderr",
     "output_type": "stream",
     "text": [
      "/Users/Naif/anaconda3/lib/python3.6/site-packages/ipykernel_launcher.py:1: DeprecationWarning: \n",
      ".ix is deprecated. Please use\n",
      ".loc for label based indexing or\n",
      ".iloc for positional indexing\n",
      "\n",
      "See the documentation here:\n",
      "http://pandas.pydata.org/pandas-docs/stable/indexing.html#ix-indexer-is-deprecated\n",
      "  \"\"\"Entry point for launching an IPython kernel.\n"
     ]
    },
    {
     "data": {
      "text/plain": [
       "Text(0,0.5,'Energy')"
      ]
     },
     "execution_count": 388,
     "metadata": {},
     "output_type": "execute_result"
    },
    {
     "data": {
      "image/png": "[encoded data removed]",
      "text/plain": [
       "<Figure size 432x288 with 1 Axes>"
      ]
     },
     "metadata": {},
     "output_type": "display_data"
    }
   ],
   "source": [
    "y=list(pd.Series(means.ix['Energy',:]))\n",
    "b=plt.bar(x,y,align='center')\n",
    "plt.title('Energy Vs Years')\n",
    "plt.xlabel('Years')\n",
    "plt.ylabel('Energy')"
   ]
  },
  {
   "cell_type": "code",
   "execution_count": 389,
   "metadata": {},
   "outputs": [
    {
     "name": "stderr",
     "output_type": "stream",
     "text": [
      "/Users/Naif/anaconda3/lib/python3.6/site-packages/ipykernel_launcher.py:1: DeprecationWarning: \n",
      ".ix is deprecated. Please use\n",
      ".loc for label based indexing or\n",
      ".iloc for positional indexing\n",
      "\n",
      "See the documentation here:\n",
      "http://pandas.pydata.org/pandas-docs/stable/indexing.html#ix-indexer-is-deprecated\n",
      "  \"\"\"Entry point for launching an IPython kernel.\n"
     ]
    },
    {
     "data": {
      "text/plain": [
       "Text(0,0.5,'Loudness')"
      ]
     },
     "execution_count": 389,
     "metadata": {},
     "output_type": "execute_result"
    },
    {
     "data": {
      "image/png": "[encoded data removed]",
      "text/plain": [
       "<Figure size 432x288 with 1 Axes>"
      ]
     },
     "metadata": {},
     "output_type": "display_data"
    }
   ],
   "source": [
    "y=list(pd.Series(means.ix['Loudness',:]))\n",
    "b=plt.bar(x,y,align='center')\n",
    "plt.title('Loudness Vs Years')\n",
    "plt.xlabel('Years')\n",
    "plt.ylabel('Loudness')"
   ]
  },
  {
   "cell_type": "code",
   "execution_count": 391,
   "metadata": {},
   "outputs": [
    {
     "name": "stderr",
     "output_type": "stream",
     "text": [
      "/Users/Naif/anaconda3/lib/python3.6/site-packages/ipykernel_launcher.py:1: DeprecationWarning: \n",
      ".ix is deprecated. Please use\n",
      ".loc for label based indexing or\n",
      ".iloc for positional indexing\n",
      "\n",
      "See the documentation here:\n",
      "http://pandas.pydata.org/pandas-docs/stable/indexing.html#ix-indexer-is-deprecated\n",
      "  \"\"\"Entry point for launching an IPython kernel.\n"
     ]
    },
    {
     "data": {
      "text/plain": [
       "Text(0,0.5,'Mode')"
      ]
     },
     "execution_count": 391,
     "metadata": {},
     "output_type": "execute_result"
    },
    {
     "data": {
      "image/png": "[encoded data removed]",
      "text/plain": [
       "<Figure size 432x288 with 1 Axes>"
      ]
     },
     "metadata": {},
     "output_type": "display_data"
    }
   ],
   "source": [
    "y=list(pd.Series(means.ix['Mode',:]))\n",
    "b=plt.bar(x,y,align='center')\n",
    "plt.title('Mode Vs Years')\n",
    "plt.xlabel('Years')\n",
    "plt.ylabel('Mode')"
   ]
  },
  {
   "cell_type": "code",
   "execution_count": 392,
   "metadata": {},
   "outputs": [
    {
     "name": "stderr",
     "output_type": "stream",
     "text": [
      "/Users/Naif/anaconda3/lib/python3.6/site-packages/ipykernel_launcher.py:1: DeprecationWarning: \n",
      ".ix is deprecated. Please use\n",
      ".loc for label based indexing or\n",
      ".iloc for positional indexing\n",
      "\n",
      "See the documentation here:\n",
      "http://pandas.pydata.org/pandas-docs/stable/indexing.html#ix-indexer-is-deprecated\n",
      "  \"\"\"Entry point for launching an IPython kernel.\n"
     ]
    },
    {
     "data": {
      "text/plain": [
       "Text(0,0.5,'Speechiness')"
      ]
     },
     "execution_count": 392,
     "metadata": {},
     "output_type": "execute_result"
    },
    {
     "data": {
      "image/png": "[encoded data removed]",
      "text/plain": [
       "<Figure size 432x288 with 1 Axes>"
      ]
     },
     "metadata": {},
     "output_type": "display_data"
    }
   ],
   "source": [
    "y=list(pd.Series(means.ix['Speechiness',:]))\n",
    "b=plt.bar(x,y,align='center')\n",
    "plt.title('Speechiness Vs Years')\n",
    "plt.xlabel('Years')\n",
    "plt.ylabel('Speechiness')"
   ]
  },
  {
   "cell_type": "code",
   "execution_count": 393,
   "metadata": {},
   "outputs": [
    {
     "name": "stderr",
     "output_type": "stream",
     "text": [
      "/Users/Naif/anaconda3/lib/python3.6/site-packages/ipykernel_launcher.py:1: DeprecationWarning: \n",
      ".ix is deprecated. Please use\n",
      ".loc for label based indexing or\n",
      ".iloc for positional indexing\n",
      "\n",
      "See the documentation here:\n",
      "http://pandas.pydata.org/pandas-docs/stable/indexing.html#ix-indexer-is-deprecated\n",
      "  \"\"\"Entry point for launching an IPython kernel.\n"
     ]
    },
    {
     "data": {
      "text/plain": [
       "Text(0,0.5,'Acousticness')"
      ]
     },
     "execution_count": 393,
     "metadata": {},
     "output_type": "execute_result"
    },
    {
     "data": {
      "image/png": "[encoded data removed]",
      "text/plain": [
       "<Figure size 432x288 with 1 Axes>"
      ]
     },
     "metadata": {},
     "output_type": "display_data"
    }
   ],
   "source": [
    "y=list(pd.Series(means.ix['Acousticness',:]))\n",
    "b=plt.bar(x,y,align='center')\n",
    "plt.title('Acousticness Vs Years')\n",
    "plt.xlabel('Years')\n",
    "plt.ylabel('Acousticness')"
   ]
  },
  {
   "cell_type": "code",
   "execution_count": 394,
   "metadata": {},
   "outputs": [
    {
     "name": "stderr",
     "output_type": "stream",
     "text": [
      "/Users/Naif/anaconda3/lib/python3.6/site-packages/ipykernel_launcher.py:1: DeprecationWarning: \n",
      ".ix is deprecated. Please use\n",
      ".loc for label based indexing or\n",
      ".iloc for positional indexing\n",
      "\n",
      "See the documentation here:\n",
      "http://pandas.pydata.org/pandas-docs/stable/indexing.html#ix-indexer-is-deprecated\n",
      "  \"\"\"Entry point for launching an IPython kernel.\n"
     ]
    },
    {
     "data": {
      "text/plain": [
       "Text(0,0.5,'Instrumentalness')"
      ]
     },
     "execution_count": 394,
     "metadata": {},
     "output_type": "execute_result"
    },
    {
     "data": {
      "image/png": "[encoded data removed]",
      "text/plain": [
       "<Figure size 432x288 with 1 Axes>"
      ]
     },
     "metadata": {},
     "output_type": "display_data"
    }
   ],
   "source": [
    "y=list(pd.Series(means.ix['Instrumentalness',:]))\n",
    "b=plt.bar(x,y,align='center')\n",
    "plt.title('Instrumentalness Vs Years')\n",
    "plt.xlabel('Years')\n",
    "plt.ylabel('Instrumentalness')"
   ]
  },
  {
   "cell_type": "code",
   "execution_count": 395,
   "metadata": {},
   "outputs": [
    {
     "name": "stderr",
     "output_type": "stream",
     "text": [
      "/Users/Naif/anaconda3/lib/python3.6/site-packages/ipykernel_launcher.py:1: DeprecationWarning: \n",
      ".ix is deprecated. Please use\n",
      ".loc for label based indexing or\n",
      ".iloc for positional indexing\n",
      "\n",
      "See the documentation here:\n",
      "http://pandas.pydata.org/pandas-docs/stable/indexing.html#ix-indexer-is-deprecated\n",
      "  \"\"\"Entry point for launching an IPython kernel.\n"
     ]
    },
    {
     "data": {
      "text/plain": [
       "Text(0,0.5,'Liveness')"
      ]
     },
     "execution_count": 395,
     "metadata": {},
     "output_type": "execute_result"
    },
    {
     "data": {
      "image/png": "[encoded data removed]",
      "text/plain": [
       "<Figure size 432x288 with 1 Axes>"
      ]
     },
     "metadata": {},
     "output_type": "display_data"
    }
   ],
   "source": [
    "y=list(pd.Series(means.ix['Liveness',:]))\n",
    "b=plt.bar(x,y,align='center')\n",
    "plt.title('Liveness Vs Years')\n",
    "plt.xlabel('Years')\n",
    "plt.ylabel('Liveness')\n"
   ]
  },
  {
   "cell_type": "code",
   "execution_count": 396,
   "metadata": {},
   "outputs": [
    {
     "name": "stderr",
     "output_type": "stream",
     "text": [
      "/Users/Naif/anaconda3/lib/python3.6/site-packages/ipykernel_launcher.py:1: DeprecationWarning: \n",
      ".ix is deprecated. Please use\n",
      ".loc for label based indexing or\n",
      ".iloc for positional indexing\n",
      "\n",
      "See the documentation here:\n",
      "http://pandas.pydata.org/pandas-docs/stable/indexing.html#ix-indexer-is-deprecated\n",
      "  \"\"\"Entry point for launching an IPython kernel.\n"
     ]
    },
    {
     "data": {
      "text/plain": [
       "Text(0,0.5,'Valence')"
      ]
     },
     "execution_count": 396,
     "metadata": {},
     "output_type": "execute_result"
    },
    {
     "data": {
      "image/png": "[encoded data removed]",
      "text/plain": [
       "<Figure size 432x288 with 1 Axes>"
      ]
     },
     "metadata": {},
     "output_type": "display_data"
    }
   ],
   "source": [
    "y=list(pd.Series(means.ix['Valence',:]))\n",
    "b=plt.bar(x,y,align='center')\n",
    "plt.title('Valence Vs Years')\n",
    "plt.xlabel('Years')\n",
    "plt.ylabel('Valence')"
   ]
  },
  {
   "cell_type": "code",
   "execution_count": 397,
   "metadata": {},
   "outputs": [
    {
     "name": "stderr",
     "output_type": "stream",
     "text": [
      "/Users/Naif/anaconda3/lib/python3.6/site-packages/ipykernel_launcher.py:1: DeprecationWarning: \n",
      ".ix is deprecated. Please use\n",
      ".loc for label based indexing or\n",
      ".iloc for positional indexing\n",
      "\n",
      "See the documentation here:\n",
      "http://pandas.pydata.org/pandas-docs/stable/indexing.html#ix-indexer-is-deprecated\n",
      "  \"\"\"Entry point for launching an IPython kernel.\n"
     ]
    },
    {
     "data": {
      "text/plain": [
       "Text(0,0.5,'Tempo')"
      ]
     },
     "execution_count": 397,
     "metadata": {},
     "output_type": "execute_result"
    },
    {
     "data": {
      "image/png": "[encoded data removed]",
      "text/plain": [
       "<Figure size 432x288 with 1 Axes>"
      ]
     },
     "metadata": {},
     "output_type": "display_data"
    }
   ],
   "source": [
    "y=list(pd.Series(means.ix['Tempo',:]))\n",
    "b=plt.bar(x,y,align='center')\n",
    "plt.title('Tempo Vs Years')\n",
    "plt.xlabel('Years')\n",
    "plt.ylabel('Tempo')"
   ]
  },
  {
   "cell_type": "code",
   "execution_count": null,
   "metadata": {},
   "outputs": [],
   "source": []
  }
 ],
 "metadata": {
  "kernelspec": {
   "display_name": "Python 3",
   "language": "python",
   "name": "python3"
  },
  "language_info": {
   "codemirror_mode": {
    "name": "ipython",
    "version": 3
   },
   "file_extension": ".py",
   "mimetype": "text/x-python",
   "name": "python",
   "nbconvert_exporter": "python",
   "pygments_lexer": "ipython3",
   "version": "3.6.5"
  }
 },
 "nbformat": 4,
 "nbformat_minor": 2
}
