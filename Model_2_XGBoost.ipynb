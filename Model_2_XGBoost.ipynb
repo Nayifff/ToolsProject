{
 "cells": [
  {
   "cell_type": "markdown",
   "metadata": {},
   "source": [
    "# Prediction Model_2 - XGBoost Classifier"
   ]
  },
  {
   "cell_type": "code",
   "execution_count": 3,
   "metadata": {},
   "outputs": [],
   "source": [
    "import pandas as pd\n",
    "import numpy as np\n",
    "import matplotlib.pyplot as plt\n",
    "from sklearn.model_selection import cross_val_score\n",
    "from sklearn.model_selection import train_test_split"
   ]
  },
  {
   "cell_type": "code",
   "execution_count": 4,
   "metadata": {},
   "outputs": [],
   "source": [
    "df = pd.read_csv('compiled_cleaned_songs.csv', sep = ',')\n",
    "df_col = df.columns.values.tolist()\n",
    "y=['Hot']\n",
    "x =[i for i in df_col if i not in y]\n",
    "del x[0:4]\n",
    "X = df[x] #### Covariates\n",
    "Y = df[y] #### Dependable variable"
   ]
  },
  {
   "cell_type": "code",
   "execution_count": 5,
   "metadata": {},
   "outputs": [],
   "source": [
    "###Dummy variables created to handle discrete variables #######\n",
    "col =['Key','Mode','Time_Signature']\n",
    "for feat in col:\n",
    "    col_list='feat'+'_'+ feat\n",
    "    col_list = pd.get_dummies(X[feat], prefix=feat)\n",
    "    X1=X.join(col_list)\n",
    "    X=X1\n",
    "col =['Key','Mode','Time_Signature']\n",
    "X_col =X.columns.values.tolist()\n",
    "final_cols=[i for i in X_col if i not in col]"
   ]
  },
  {
   "cell_type": "code",
   "execution_count": 6,
   "metadata": {},
   "outputs": [],
   "source": [
    "X1 = X[final_cols]\n",
    "X2 = X1.drop(columns=['Key_0', 'Mode_0', 'Time_Signature_0']) #### Final dataframe for analysis"
   ]
  },
  {
   "cell_type": "markdown",
   "metadata": {},
   "source": [
    "###### XGBOOST CLASSIFIER"
   ]
  },
  {
   "cell_type": "code",
   "execution_count": 8,
   "metadata": {},
   "outputs": [
    {
     "name": "stdout",
     "output_type": "stream",
     "text": [
      "[ True  True  True  True  True  True  True  True  True  True  True  True\n",
      " False False False False False False False  True False  True False False\n",
      " False False False False]\n",
      "[ 1  1  1  1  1  1  1  1  1  1  1  1  3 15 14  5 10 11  4  1  8  1  6  7\n",
      "  9  2 12 13]\n"
     ]
    }
   ],
   "source": [
    "#### Recursive Feature Elimination ####\n",
    "from xgboost.sklearn import XGBClassifier\n",
    "from sklearn.feature_selection import RFE\n",
    "\n",
    "xgb = XGBClassifier()\n",
    "rfe = RFE(xgb)\n",
    "rfe = rfe.fit(X2, Y.values.ravel())\n",
    "print(rfe.support_)\n",
    "print(rfe.ranking_)"
   ]
  },
  {
   "cell_type": "code",
   "execution_count": 9,
   "metadata": {},
   "outputs": [],
   "source": [
    "X2_col = X2.columns.values.tolist()\n",
    "\n",
    "indices = 12,13,14,15,16,17,18,20,22,23,24,25,26,27\n",
    "X2_col_mod_1 = [i for j, i in enumerate(X2_col) if j not in indices]\n",
    "X2_mod_1 = X2[X2_col_mod_1]"
   ]
  },
  {
   "cell_type": "code",
   "execution_count": 10,
   "metadata": {},
   "outputs": [
    {
     "name": "stdout",
     "output_type": "stream",
     "text": [
      "(8663, 14)\n",
      "(8663, 1)\n",
      "(2166, 14)\n",
      "(2166, 1)\n"
     ]
    },
    {
     "data": {
      "text/plain": [
       "XGBClassifier(base_score=0.5, booster='gbtree', colsample_bylevel=1,\n",
       "       colsample_bytree=1, gamma=0, learning_rate=0.1, max_delta_step=0,\n",
       "       max_depth=3, min_child_weight=1, missing=None, n_estimators=100,\n",
       "       n_jobs=1, nthread=None, objective='binary:logistic', random_state=0,\n",
       "       reg_alpha=0, reg_lambda=1, scale_pos_weight=1, seed=None,\n",
       "       silent=True, subsample=1)"
      ]
     },
     "execution_count": 10,
     "metadata": {},
     "output_type": "execute_result"
    }
   ],
   "source": [
    "# split into train and test sets\n",
    "X_train1, X_test1, y_train1, y_test1 = train_test_split(X2_mod_1,Y,test_size=0.2)\n",
    "print(X_train1.shape)\n",
    "print(y_train1.shape)\n",
    "print(X_test1.shape)\n",
    "print(y_test1.shape)\n",
    "\n",
    "#fit the model\n",
    "xgb.fit(X_train1,y_train1.values.ravel())"
   ]
  },
  {
   "cell_type": "code",
   "execution_count": 12,
   "metadata": {},
   "outputs": [
    {
     "name": "stderr",
     "output_type": "stream",
     "text": [
      "C:\\Users\\Varun Bhatia\\Anaconda4\\lib\\site-packages\\sklearn\\preprocessing\\label.py:151: DeprecationWarning: The truth value of an empty array is ambiguous. Returning False, but in future this will result in an error. Use `array.size > 0` to check that an array is not empty.\n",
      "  if diff:\n",
      "C:\\Users\\Varun Bhatia\\Anaconda4\\lib\\site-packages\\sklearn\\preprocessing\\label.py:151: DeprecationWarning: The truth value of an empty array is ambiguous. Returning False, but in future this will result in an error. Use `array.size > 0` to check that an array is not empty.\n",
      "  if diff:\n",
      "C:\\Users\\Varun Bhatia\\Anaconda4\\lib\\site-packages\\sklearn\\preprocessing\\label.py:151: DeprecationWarning: The truth value of an empty array is ambiguous. Returning False, but in future this will result in an error. Use `array.size > 0` to check that an array is not empty.\n",
      "  if diff:\n",
      "C:\\Users\\Varun Bhatia\\Anaconda4\\lib\\site-packages\\sklearn\\preprocessing\\label.py:151: DeprecationWarning: The truth value of an empty array is ambiguous. Returning False, but in future this will result in an error. Use `array.size > 0` to check that an array is not empty.\n",
      "  if diff:\n"
     ]
    },
    {
     "name": "stdout",
     "output_type": "stream",
     "text": [
      "[0.93479515 0.9422966  0.93652626 0.92725173 0.94168591]\n",
      "Mean: 0.9365111295608012\n"
     ]
    },
    {
     "name": "stderr",
     "output_type": "stream",
     "text": [
      "C:\\Users\\Varun Bhatia\\Anaconda4\\lib\\site-packages\\sklearn\\preprocessing\\label.py:151: DeprecationWarning: The truth value of an empty array is ambiguous. Returning False, but in future this will result in an error. Use `array.size > 0` to check that an array is not empty.\n",
      "  if diff:\n"
     ]
    }
   ],
   "source": [
    "cv_scores = cross_val_score(xgb, X_train1, y_train1.values.ravel(), cv=5)\n",
    "print(cv_scores)\n",
    "mean_score=cv_scores.mean()\n",
    "print(\"Mean:\", mean_score)"
   ]
  },
  {
   "cell_type": "code",
   "execution_count": 13,
   "metadata": {},
   "outputs": [
    {
     "name": "stdout",
     "output_type": "stream",
     "text": [
      "Accuracy of XG Booster classifier on test set: 0.93\n"
     ]
    },
    {
     "name": "stderr",
     "output_type": "stream",
     "text": [
      "C:\\Users\\Varun Bhatia\\Anaconda4\\lib\\site-packages\\sklearn\\preprocessing\\label.py:151: DeprecationWarning: The truth value of an empty array is ambiguous. Returning False, but in future this will result in an error. Use `array.size > 0` to check that an array is not empty.\n",
      "  if diff:\n",
      "C:\\Users\\Varun Bhatia\\Anaconda4\\lib\\site-packages\\sklearn\\preprocessing\\label.py:151: DeprecationWarning: The truth value of an empty array is ambiguous. Returning False, but in future this will result in an error. Use `array.size > 0` to check that an array is not empty.\n",
      "  if diff:\n"
     ]
    }
   ],
   "source": [
    "y_pred1 = xgb.predict(X_test1)\n",
    "print('Accuracy of XG Booster classifier on test set: {:.2f}'.format(xgb.score(X_test1, y_test1)))"
   ]
  },
  {
   "cell_type": "code",
   "execution_count": 15,
   "metadata": {},
   "outputs": [
    {
     "name": "stdout",
     "output_type": "stream",
     "text": [
      "             precision    recall  f1-score   support\n",
      "\n",
      "          0       0.95      0.97      0.96      1932\n",
      "          1       0.72      0.59      0.65       234\n",
      "\n",
      "avg / total       0.93      0.93      0.93      2166\n",
      "\n",
      "[[1877   55]\n",
      " [  96  138]]\n"
     ]
    }
   ],
   "source": [
    "from sklearn.metrics import classification_report\n",
    "from sklearn.metrics import confusion_matrix \n",
    "\n",
    "print(classification_report(y_test1, y_pred1))\n",
    "print(confusion_matrix(y_test1, y_pred1))"
   ]
  },
  {
   "cell_type": "code",
   "execution_count": 16,
   "metadata": {},
   "outputs": [
    {
     "name": "stderr",
     "output_type": "stream",
     "text": [
      "C:\\Users\\Varun Bhatia\\Anaconda4\\lib\\site-packages\\sklearn\\preprocessing\\label.py:151: DeprecationWarning: The truth value of an empty array is ambiguous. Returning False, but in future this will result in an error. Use `array.size > 0` to check that an array is not empty.\n",
      "  if diff:\n"
     ]
    },
    {
     "data": {
      "text/plain": [
       "<matplotlib.legend.Legend at 0x2b3200bf898>"
      ]
     },
     "execution_count": 16,
     "metadata": {},
     "output_type": "execute_result"
    },
    {
     "data": {
      "image/png": "[encoded data removed]",
      "text/plain": [
       "<Figure size 432x288 with 1 Axes>"
      ]
     },
     "metadata": {},
     "output_type": "display_data"
    }
   ],
   "source": [
    "from sklearn.metrics import roc_auc_score\n",
    "from sklearn.metrics import roc_curve\n",
    "xgb_roc_auc = roc_auc_score(y_test1, xgb.predict(X_test1))\n",
    "fpr, tpr, thresholds = roc_curve(y_test1, xgb.predict_proba(X_test1)[:,1])\n",
    "plt.figure()\n",
    "plt.plot(fpr, tpr, label='XG Booster (area = %0.2f)' % xgb_roc_auc)\n",
    "plt.plot([0, 1], [0, 1],'r--')\n",
    "plt.xlim([0.0, 1.0])\n",
    "plt.ylim([0.0, 1.05])\n",
    "plt.xlabel('False Positive Rate')\n",
    "plt.ylabel('True Positive Rate')\n",
    "plt.title('Receiver operating characteristic')\n",
    "plt.legend(loc=\"lower right\")"
   ]
  },
  {
   "cell_type": "code",
   "execution_count": null,
   "metadata": {},
   "outputs": [],
   "source": []
  }
 ],
 "metadata": {
  "kernelspec": {
   "display_name": "Python 3",
   "language": "python",
   "name": "python3"
  },
  "language_info": {
   "codemirror_mode": {
    "name": "ipython",
    "version": 3
   },
   "file_extension": ".py",
   "mimetype": "text/x-python",
   "name": "python",
   "nbconvert_exporter": "python",
   "pygments_lexer": "ipython3",
   "version": "3.6.5"
  }
 },
 "nbformat": 4,
 "nbformat_minor": 2
}
