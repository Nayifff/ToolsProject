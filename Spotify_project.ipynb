{
 "cells": [
  {
   "cell_type": "code",
   "execution_count": null,
   "metadata": {},
   "outputs": [],
   "source": [
    "import requests\n",
    "import pandas as pd\n",
    "import json\n",
    "from bs4 import BeautifulSoup\n",
    "music_list = []\n",
    "df1= pd.DataFrame()\n",
    "for year in range(1960,2006):\n",
    "    try:\n",
    "        df_list = pd.read_html(\"https://en.wikipedia.org/wiki/Billboard_Year-End_Hot_100_singles_of_\"+ str(year), header=0)\n",
    "        df4= df_list[0]\n",
    "        try:\n",
    "            df4[\"Title\"]=  df4[\"Title\"].apply(lambda x: json.loads(x))\n",
    "        except:\n",
    "            pass\n",
    "        df4[\"Year\"] = year\n",
    "        del df4[\"№\"]\n",
    "        for index, row in df4.iterrows():\n",
    "            music_list.append(row.values.tolist())\n",
    "    except:\n",
    "        pass\n",
    "\n",
    "\n",
    "# For 2006 to 2017\n",
    "import requests\n",
    "from bs4 import BeautifulSoup\n",
    "for year in range(2006,2018):\n",
    "    url = \"https://www.billboard.com/charts/year-end/\"+ str(year)+\"/hot-100-songs\"\n",
    "    response = requests.get(url)\n",
    "    results_page = BeautifulSoup(response.content,'lxml')\n",
    "    # print(results_page.prettify())\n",
    "    article_tags = results_page.find_all('article', class_= \"ye-chart-item\")\n",
    "    for tag in article_tags:\n",
    "        artist =tag.find('div', class_= \"ye-chart-item__artist\").get_text().strip()\n",
    "        track  = tag.find('div', class_= \"ye-chart-item__title\").get_text().strip()\n",
    "        music_list.append([track,artist, year])\n"
   ]
  },
  {
   "cell_type": "code",
   "execution_count": null,
   "metadata": {},
   "outputs": [],
   "source": [
    "# df = pd.DataFrame(music_list)\n",
    "# df.tail(50)"
   ]
  },
  {
   "cell_type": "code",
   "execution_count": null,
   "metadata": {},
   "outputs": [],
   "source": [
    "#for 2018\n",
    "import requests\n",
    "from bs4 import BeautifulSoup\n",
    "url = \"https://www.billboard.com/charts/hot-100\"\n",
    "response = requests.get(url)\n",
    "results_page = BeautifulSoup(response.content,'lxml')\n",
    "# print(results_page.prettify())\n",
    "div_tags = results_page.find_all('div', class_= \"chart-list-item\")\n",
    "for div in div_tags:\n",
    "    artist= div.get(\"data-artist\")\n",
    "    track = div.get(\"data-title\")\n",
    "        "
   ]
  },
  {
   "cell_type": "code",
   "execution_count": null,
   "metadata": {},
   "outputs": [],
   "source": [
    "# !pip3 install spotipy\n"
   ]
  },
  {
   "cell_type": "code",
   "execution_count": null,
   "metadata": {},
   "outputs": [],
   "source": [
    "import spotipy\n",
    "import numpy as np\n",
    "from spotipy.oauth2 import SpotifyClientCredentials\n",
    "client_credentials_manager = SpotifyClientCredentials(client_id=\"a31e2c1446fd4e6aa11476d8532fc939\",client_secret=\"b52f884f9d4f464eba58daf0d5180ea4\")\n",
    "sp = spotipy.Spotify(client_credentials_manager=client_credentials_manager)\n",
    "from collections import OrderedDict\n",
    "def get_spotify_features(track, artist):\n",
    "    #Search for Spofity song ID \n",
    "    songs=sp.search(q='track:'+track+' '+'artist:'+artist+'*' , type='track')\n",
    "    items = songs['tracks']['items']\n",
    "#     print(items)\n",
    "    if len(items) ==0:\n",
    "        return([0]*18)\n",
    "    else:\n",
    "        track = items[0]\n",
    "        song_id = str(track[\"id\"])\n",
    "        #Use ID to get Song features\n",
    "        track_features=sp.audio_features(song_id)\n",
    "        if len(track_features[0]) <18:\n",
    "            return([0]*18)\n",
    "        else:\n",
    "            features = np.array(track_features)[0]\n",
    "            #Order Dictionary\n",
    "#             print(len(track_features[0]))\n",
    "            features = OrderedDict(features)\n",
    "#             return (features)\n",
    "            #Get Dictionary values\n",
    "            feature_values = features.values()\n",
    "            return(feature_values)\n",
    " ## get_spotify_features(\"Sicko Mode\", \"Travis Scott\")    \n",
    "audio_features = []\n",
    "for i in range(0,len(music_list)):\n",
    "    try:\n",
    "        year = music_list[i][2]\n",
    "        track = music_list[i][0]\n",
    "        artist= music_list[i][1]\n",
    "        get_spotify_features(track,artist)\n",
    "        danceability, energy, key, loudness, mode,speechiness,acousticness, instrumentalness, liveness, valence, tempo, type_, id_,uri, track_href,analysis_url,duration_ms, time_signature = get_spotify_features(track, artist)\n",
    "        audio_features.append((year,artist,track,danceability, energy, key, loudness, mode, speechiness,acousticness, instrumentalness, liveness, valence, tempo,duration_ms, time_signature))\n",
    "    except:\n",
    "        pass"
   ]
  },
  {
   "cell_type": "code",
   "execution_count": null,
   "metadata": {},
   "outputs": [],
   "source": [
    "import pandas as pd\n",
    "labels = [\"Year\", \"Artist\", \"Track\", \"Danceability\",\"Energy\", \"Key\", \"Loudness\", \"Mode\", \"Speechiness\", \"Acousticness\",\n",
    "          \"Instrumentalness\", \"Liveness\", \"Valence\", \"Tempo\", \"Duration_ms\", \"Time_Signature\"]\n",
    "df =pd.DataFrame(audio_features, columns=labels)\n",
    "# df.head(50)"
   ]
  },
  {
   "cell_type": "code",
   "execution_count": null,
   "metadata": {},
   "outputs": [],
   "source": [
    "df.to_csv(\"spotify_project.csv\", sep='\\t')\n"
   ]
  },
  {
   "cell_type": "code",
   "execution_count": null,
   "metadata": {},
   "outputs": [],
   "source": [
    "\n",
    "def get_popularity(track, artist):\n",
    "    import spotipy\n",
    "    import numpy as np\n",
    "    from spotipy.oauth2 import SpotifyClientCredentials\n",
    "    client_credentials_manager = SpotifyClientCredentials(client_id=\"a31e2c1446fd4e6aa11476d8532fc939\",client_secret=\"b52f884f9d4f464eba58daf0d5180ea4\")\n",
    "    from collections import OrderedDict\n",
    "\n",
    "    sp = spotipy.Spotify(client_credentials_manager=client_credentials_manager)\n",
    "    artists=sp.search('artist:'+artist+'*' , type='artist')\n",
    "    try:\n",
    "        artist_popularity = artists['artists']['items'][0]['popularity']\n",
    "    except:\n",
    "        artist_popularity = 0\n",
    "        \n",
    "    songs=sp.search(q='track:'+track+' '+'artist:'+artist+'*' , type='track')\n",
    "    items = songs['tracks']['items']\n",
    "    if len(items) ==0:\n",
    "        return([0]*18)\n",
    "        song_popularity = 0\n",
    "    else:\n",
    "        track = items[0]\n",
    "#         print(track)\n",
    "        song_id = str(track[\"id\"])\n",
    "        song_popularity = track['popularity']\n",
    "    return (song_popularity, artist_popularity)\n",
    "\n",
    "popularity=[]\n",
    "for i in range(0,len(music_list)):\n",
    "    try:\n",
    "        year = music_list[i][2]\n",
    "        track = music_list[i][0]\n",
    "        artist= music_list[i][1]\n",
    "        song_popularity, artist_popularity= get_popularity(track, artist)\n",
    "        popularity.append((track, song_popularity, artist_popularity))\n",
    "        print(i)\n",
    "    except:\n",
    "        pass"
   ]
  },
  {
   "cell_type": "code",
   "execution_count": null,
   "metadata": {},
   "outputs": [],
   "source": [
    "import pandas as pd\n",
    "labels = [\"Track\", \"Track_Popularity\", \"Artist_Popularity\"]\n",
    "df_pop =pd.DataFrame(popularity, columns=labels)\n",
    "df_pop"
   ]
  },
  {
   "cell_type": "code",
   "execution_count": null,
   "metadata": {},
   "outputs": [],
   "source": [
    "df_pop.to_csv(\"spotify_pop_project.csv\", sep='\\t')"
   ]
  },
  {
   "cell_type": "code",
   "execution_count": null,
   "metadata": {},
   "outputs": [],
   "source": []
  }
 ],
 "metadata": {
  "kernelspec": {
   "display_name": "Python 3",
   "language": "python",
   "name": "python3"
  },
  "language_info": {
   "codemirror_mode": {
    "name": "ipython",
    "version": 3
   },
   "file_extension": ".py",
   "mimetype": "text/x-python",
   "name": "python",
   "nbconvert_exporter": "python",
   "pygments_lexer": "ipython3",
   "version": "3.6.5"
  }
 },
 "nbformat": 4,
 "nbformat_minor": 2
}
