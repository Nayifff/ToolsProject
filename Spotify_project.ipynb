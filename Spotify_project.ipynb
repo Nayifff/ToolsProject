{
 "cells": [
  {
   "cell_type": "code",
   "execution_count": 96,
   "metadata": {},
   "outputs": [],
   "source": [
    "# For 2006 to 2017\n",
    "import requests\n",
    "from bs4 import BeautifulSoup\n",
    "music_list =[]\n",
    "\n",
    "for year in range(2006,2018):\n",
    "    url = \"https://www.billboard.com/charts/year-end/\"+ str(year)+\"/hot-100-songs\"\n",
    "    response = requests.get(url)\n",
    "    results_page = BeautifulSoup(response.content,'lxml')\n",
    "    # print(results_page.prettify())\n",
    "    article_tags = results_page.find_all('article', class_= \"ye-chart-item\")\n",
    "    for tag in article_tags:\n",
    "        artist =tag.find('div', class_= \"ye-chart-item__artist\").get_text().strip()\n",
    "        track  = tag.find('div', class_= \"ye-chart-item__title\").get_text().strip()\n",
    "        music_list.append((year, artist,track))\n",
    "        "
   ]
  },
  {
   "cell_type": "code",
   "execution_count": 97,
   "metadata": {},
   "outputs": [],
   "source": [
    "#for 2018\n",
    "import requests\n",
    "from bs4 import BeautifulSoup\n",
    "url = \"https://www.billboard.com/charts/hot-100\"\n",
    "response = requests.get(url)\n",
    "results_page = BeautifulSoup(response.content,'lxml')\n",
    "# print(results_page.prettify())\n",
    "div_tags = results_page.find_all('div', class_= \"chart-list-item\")\n",
    "for div in div_tags:\n",
    "    artist= div.get(\"data-artist\")\n",
    "    track = div.get(\"data-title\")\n",
    "        "
   ]
  },
  {
   "cell_type": "code",
   "execution_count": 17,
   "metadata": {},
   "outputs": [
    {
     "name": "stdout",
     "output_type": "stream",
     "text": [
      "Collecting spotipy\n",
      "  Using cached https://files.pythonhosted.org/packages/59/46/3c957255c96910a8a0e2d9c25db1de51a8676ebba01d7966bedc6e748822/spotipy-2.4.4.tar.gz\n",
      "Requirement already satisfied: requests>=1.0 in /anaconda3/lib/python3.6/site-packages (from spotipy) (2.18.4)\n",
      "Requirement already satisfied: chardet<3.1.0,>=3.0.2 in /anaconda3/lib/python3.6/site-packages (from requests>=1.0->spotipy) (3.0.4)\n",
      "Requirement already satisfied: idna<2.7,>=2.5 in /anaconda3/lib/python3.6/site-packages (from requests>=1.0->spotipy) (2.6)\n",
      "Requirement already satisfied: urllib3<1.23,>=1.21.1 in /anaconda3/lib/python3.6/site-packages (from requests>=1.0->spotipy) (1.22)\n",
      "Requirement already satisfied: certifi>=2017.4.17 in /anaconda3/lib/python3.6/site-packages (from requests>=1.0->spotipy) (2018.4.16)\n",
      "Building wheels for collected packages: spotipy\n",
      "  Running setup.py bdist_wheel for spotipy ... \u001b[?25ldone\n",
      "\u001b[?25h  Stored in directory: /Users/shazliekhan/Library/Caches/pip/wheels/76/28/19/a86ca9bb0e32dbd4a4f580870250f5aeef852870578e0427e6\n",
      "Successfully built spotipy\n",
      "Installing collected packages: spotipy\n",
      "Successfully installed spotipy-2.4.4\n"
     ]
    }
   ],
   "source": [
    "# !pip3 install spotipy\n"
   ]
  },
  {
   "cell_type": "code",
   "execution_count": null,
   "metadata": {},
   "outputs": [],
   "source": [
    "import spotipy\n",
    "import numpy as np\n",
    "from spotipy.oauth2 import SpotifyClientCredentials\n",
    "client_credentials_manager = SpotifyClientCredentials(client_id=\"a31e2c1446fd4e6aa11476d8532fc939\",client_secret=\"b52f884f9d4f464eba58daf0d5180ea4\")\n",
    "sp = spotipy.Spotify(client_credentials_manager=client_credentials_manager)\n",
    "from collections import OrderedDict\n",
    "def get_spotify_features(track, artist):\n",
    "    #Search for Spofity song ID \n",
    "    songs=sp.search(q='track:'+track+' '+'artist:'+artist+'' , type='track')\n",
    "    items = songs['tracks']['items']\n",
    "#     print(items)\n",
    "    if len(items) ==0:\n",
    "        return([0]*18)\n",
    "    else:\n",
    "        track = items[0]\n",
    "        song_id = str(track[\"id\"])\n",
    "        #Use ID to get Song features\n",
    "        track_features=sp.audio_features(song_id)\n",
    "        if len(track_features[0]) <18:\n",
    "            return([0]*18)\n",
    "        else:\n",
    "            features = np.array(track_features)[0]\n",
    "            #Order Dictionary\n",
    "#             print(len(track_features[0]))\n",
    "            features = OrderedDict(features)\n",
    "            return (features)\n",
    "            #Get Dictionary values\n",
    "            feature_values = features.values()\n",
    "            return(feature_values)\n",
    "\n",
    "# get_spotify_features(\"Sicko Mode\", \"Travis Scott\")    \n",
    "audio_features = []\n",
    "for i in range(len(music_list)-1):\n",
    "    year = music_list[i][0]\n",
    "    track = music_list[i][2]\n",
    "    artist= music_list[i][1]\n",
    "    get_spotify_features(track,artist)\n",
    "    danceability, energy, key, loudness, mode,speechiness,acousticness, instrumentalness, liveness, valence, tempo, type_, id_,uri, track_href,analysis_url,duration_ms, time_signature = get_spotify_features(track, artist)\n",
    "    audio_features.append((year,artist,track,danceability, energy, key, loudness, mode, speechiness,acousticness, instrumentalness, liveness, valence, tempo, type_,duration_ms, time_signature))\n"
   ]
  },
  {
   "cell_type": "code",
   "execution_count": null,
   "metadata": {},
   "outputs": [],
   "source": [
    "import pandas as pd\n",
    "labels = [\"Year\", \"Artist\", \"Track\", \"Danceability\",\"Energy\", \"Key\", \"Loudness\", \"Mode\", \"Speechiness\", \"Acousticness\",\n",
    "          \"Instrumentalness\", \"Liveness\", \"Valence\", \"Tempo\",\"Type_\",\"Duration_ms\", \"Time_Signature\"]\n",
    "df =pd.DataFrame(audio_features, columns=labels)\n",
    "df.tail()"
   ]
  },
  {
   "cell_type": "code",
   "execution_count": null,
   "metadata": {},
   "outputs": [],
   "source": []
  }
 ],
 "metadata": {
  "kernelspec": {
   "display_name": "Python 3",
   "language": "python",
   "name": "python3"
  },
  "language_info": {
   "codemirror_mode": {
    "name": "ipython",
    "version": 3
   },
   "file_extension": ".py",
   "mimetype": "text/x-python",
   "name": "python",
   "nbconvert_exporter": "python",
   "pygments_lexer": "ipython3",
   "version": "3.6.5"
  }
 },
 "nbformat": 4,
 "nbformat_minor": 2
}
