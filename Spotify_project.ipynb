{
 "cells": [
  {
   "cell_type": "code",
   "execution_count": 45,
   "metadata": {},
   "outputs": [],
   "source": [
    "import requests\n",
    "import pandas as pd\n",
    "import json\n",
    "from bs4 import BeautifulSoup\n",
    "music_list = []\n",
    "df1= pd.DataFrame()\n",
    "for year in range(1960,2006):\n",
    "    if year != 1970:\n",
    "        df_list = pd.read_html(\"https://en.wikipedia.org/wiki/Billboard_Year-End_Hot_100_singles_of_\"+ str(year), header=0)\n",
    "        df4= df_list[0]\n",
    "\n",
    "        df4[\"Year\"] = year\n",
    "        if \"№\" in df4.columns:\n",
    "            del df4[\"№\"]\n",
    "        if \"No.\" in df4.columns:\n",
    "            del df4[\"No.\"]\n",
    "#         df4[\"Title\"]=  df4[\"Title\"].apply(lambda x: json.loads(x))\n",
    "     \n",
    "        for index, row in df4.iterrows():\n",
    "            try:\n",
    "                row[\"Title\"]=  json.loads(row[\"Title\"])\n",
    "            except:\n",
    "                pass\n",
    "            music_list.append(row.values.tolist())\n",
    "\n",
    "# For 2006 to 2017\n",
    "import requests\n",
    "from bs4 import BeautifulSoup\n",
    "for year in range(2006,2018):\n",
    "    url = \"https://www.billboard.com/charts/year-end/\"+ str(year)+\"/hot-100-songs\"\n",
    "    response = requests.get(url)\n",
    "    results_page = BeautifulSoup(response.content,'lxml')\n",
    "    # print(results_page.prettify())\n",
    "    article_tags = results_page.find_all('article', class_= \"ye-chart-item\")\n",
    "    for tag in article_tags:\n",
    "        artist =tag.find('div', class_= \"ye-chart-item__artist\").get_text().strip()\n",
    "        track  = tag.find('div', class_= \"ye-chart-item__title\").get_text().strip()\n",
    "        music_list.append([track,artist, year])\n"
   ]
  },
  {
   "cell_type": "code",
   "execution_count": null,
   "metadata": {},
   "outputs": [],
   "source": [
    "import pandas as pd\n",
    "import json\n",
    "music_list_1970=[]\n",
    "df_list = pd.read_html(\"https://en.wikipedia.org/wiki/Billboard_Year-End_Hot_100_singles_of_\"+ str(1970), header=0)\n",
    "df4= df_list[1]\n",
    "del df4[\"No.\"]\n",
    "\n",
    "df4[\"Title\"]=  df4[\"Title\"].apply(lambda x: json.loads(x))\n",
    "\n",
    "for index, row in df4.iterrows():\n",
    "    music_list_1970.append(row.values.tolist())\n",
    "\n",
    "popularity_1970 =[]\n",
    "for i in range(0,len(music_list_1970)):\n",
    "    try:\n",
    "        year =1970\n",
    "        track = music_list_1970[i][0]\n",
    "        artist= music_list_1970[i][1]\n",
    "        song_popularity, artist_popularity= get_popularity(track, artist)\n",
    "        popularity_1970.append((track, song_popularity, artist_popularity))\n",
    "    except:\n",
    "        pass\n",
    "\n",
    "audio_features_1970 = []\n",
    "for i in range(0,len(music_list_1970)):\n",
    "    try:\n",
    "        year =1970\n",
    "        track = music_list_1970[i][0]\n",
    "        artist= music_list_1970[i][1]\n",
    "   \n",
    "        danceability, energy, key, loudness, mode,speechiness,acousticness, instrumentalness, liveness, valence, tempo, type_, id_,uri, track_href,analysis_url,duration_ms, time_signature = get_spotify_features(track, artist)\n",
    "        audio_features_1970.append((year,artist,track,danceability, energy, key, loudness, mode, speechiness,acousticness, instrumentalness, liveness, valence, tempo,duration_ms, time_signature))\n",
    "    except:\n",
    "        pass\n",
    "\n",
    "import pandas as pd\n",
    "labels = [\"Year\", \"Artist\", \"Track\", \"Danceability\",\"Energy\", \"Key\", \"Loudness\", \"Mode\", \"Speechiness\", \"Acousticness\",\n",
    "          \"Instrumentalness\", \"Liveness\", \"Valence\", \"Tempo\", \"Duration_ms\", \"Time_Signature\"]\n",
    "audio_features1970 =pd.DataFrame(audio_features_1970, columns=labels)\n",
    "# df.head(50)\n",
    "\n",
    "audio_features1970.to_excel(\"audio_features_1970.xlsx\")\n",
    "\n",
    "import pandas as pd\n",
    "labels = [\"Track\", \"Track_Popularity\", \"Artist_Popularity\"]\n",
    "df_pop_1970 =pd.DataFrame(popularity_1970, columns=labels)\n",
    "df_pop_1970.to_excel(\"df_pop_1970.xlsx\")"
   ]
  },
  {
   "cell_type": "code",
   "execution_count": null,
   "metadata": {},
   "outputs": [],
   "source": [
    "# df = pd.DataFrame(music_list)\n",
    "# df.tail(50)\n",
    "len(music_list)"
   ]
  },
  {
   "cell_type": "code",
   "execution_count": null,
   "metadata": {},
   "outputs": [],
   "source": [
    "#for 2018\n",
    "import requests\n",
    "from bs4 import BeautifulSoup\n",
    "url = \"https://www.billboard.com/charts/hot-100\"\n",
    "response = requests.get(url)\n",
    "results_page = BeautifulSoup(response.content,'lxml')\n",
    "# print(results_page.prettify())\n",
    "div_tags = results_page.find_all('div', class_= \"chart-list-item\")\n",
    "for div in div_tags:\n",
    "    artist= div.get(\"data-artist\")\n",
    "    track = div.get(\"data-title\")\n",
    "        "
   ]
  },
  {
   "cell_type": "code",
   "execution_count": null,
   "metadata": {},
   "outputs": [],
   "source": [
    "# !pip3 install spotipy\n"
   ]
  },
  {
   "cell_type": "code",
   "execution_count": null,
   "metadata": {},
   "outputs": [],
   "source": [
    "\n",
    "def get_spotify_features(track, artist):\n",
    "    import spotipy\n",
    "    import numpy as np\n",
    "    from spotipy.oauth2 import SpotifyClientCredentials\n",
    "    client_credentials_manager = SpotifyClientCredentials(client_id=\"a31e2c1446fd4e6aa11476d8532fc939\",client_secret=\"b52f884f9d4f464eba58daf0d5180ea4\")\n",
    "    sp = spotipy.Spotify(client_credentials_manager=client_credentials_manager)\n",
    "    from collections import OrderedDict\n",
    "    #Search for Spofity song ID \n",
    "    songs=sp.search(q='track:'+track+' '+'artist:'+artist+'*' , type='track')\n",
    "    items = songs['tracks']['items']\n",
    "#     print(items)\n",
    "    if len(items) ==0:\n",
    "        return([0]*18)\n",
    "    else:\n",
    "        track = items[0]\n",
    "        song_id = str(track[\"id\"])\n",
    "        #Use ID to get Song features\n",
    "        track_features=sp.audio_features(song_id)\n",
    "        if len(track_features[0]) <18:\n",
    "            return([0]*18)\n",
    "        else:\n",
    "            features = np.array(track_features)[0]\n",
    "            #Order Dictionary\n",
    "#           print(len(track_features[0]))\n",
    "            features = OrderedDict(features)\n",
    "#             return (features)\n",
    "            #Get Dictionary values\n",
    "            return(features.values())\n",
    " ## get_spotify_features(\"Sicko Mode\", \"Travis Scott\")    \n"
   ]
  },
  {
   "cell_type": "code",
   "execution_count": null,
   "metadata": {},
   "outputs": [],
   "source": [
    "audio_features = []\n",
    "for i in range(0,len(music_list)):\n",
    "    print(i)\n",
    "    try:\n",
    "        year = music_list[i][2]\n",
    "        track = music_list[i][0]\n",
    "        artist= music_list[i][1]\n",
    "        get_spotify_features(track,artist)\n",
    "        \n",
    "        danceability, energy, key, loudness, mode,speechiness,acousticness, instrumentalness, liveness, valence, tempo, type_, id_,uri, track_href,analysis_url,duration_ms, time_signature = get_spotify_features(track, artist)\n",
    "        audio_features.append((year,artist,track,danceability, energy, key, loudness, mode, speechiness,acousticness, instrumentalness, liveness, valence, tempo,duration_ms, time_signature))\n",
    "    except:\n",
    "        pass"
   ]
  },
  {
   "cell_type": "code",
   "execution_count": null,
   "metadata": {},
   "outputs": [],
   "source": [
    "import pandas as pd\n",
    "labels = [\"Year\", \"Artist\", \"Track\", \"Danceability\",\"Energy\", \"Key\", \"Loudness\", \"Mode\", \"Speechiness\", \"Acousticness\",\n",
    "          \"Instrumentalness\", \"Liveness\", \"Valence\", \"Tempo\", \"Duration_ms\", \"Time_Signature\"]\n",
    "df =pd.DataFrame(audio_features, columns=labels)\n",
    "df.head(50)"
   ]
  },
  {
   "cell_type": "code",
   "execution_count": null,
   "metadata": {},
   "outputs": [],
   "source": [
    "df.to_excel(\"spotify_project_final.xlsx\")\n",
    "df.to_csv(\"spotify_project_final.csv\", sep='\\t')\n"
   ]
  },
  {
   "cell_type": "code",
   "execution_count": 40,
   "metadata": {},
   "outputs": [
    {
     "name": "stdout",
     "output_type": "stream",
     "text": [
      "['pop', 'pop rap', 'rap']\n"
     ]
    },
    {
     "data": {
      "text/plain": [
       "(96, 96)"
      ]
     },
     "execution_count": 40,
     "metadata": {},
     "output_type": "execute_result"
    }
   ],
   "source": [
    "\n",
    "def get_popularity(track, artist):\n",
    "    import spotipy\n",
    "    import numpy as np\n",
    "    from spotipy.oauth2 import SpotifyClientCredentials\n",
    "    client_credentials_manager = SpotifyClientCredentials(client_id=\"a31e2c1446fd4e6aa11476d8532fc939\",client_secret=\"b52f884f9d4f464eba58daf0d5180ea4\")\n",
    "    from collections import OrderedDict\n",
    "\n",
    "    sp = spotipy.Spotify(client_credentials_manager=client_credentials_manager)\n",
    "    artists=sp.search('artist:'+artist+'*' , type='artist')\n",
    "    try:\n",
    "        artist_popularity = artists['artists']['items'][0]['popularity']\n",
    "    except:\n",
    "        artist_popularity = 0\n",
    "        \n",
    "    songs=sp.search(q='track:'+track+' '+'artist:'+artist+'*' , type='track')\n",
    "    items = songs['tracks']['items']\n",
    "    if len(items) ==0:\n",
    "        return([0]*18)\n",
    "        song_popularity = 0\n",
    "    else:\n",
    "        track = items[0]\n",
    "#         print(track)\n",
    "        song_id = str(track[\"id\"])\n",
    "        song_popularity = track['popularity']\n",
    "    return (song_popularity, artist_popularity)\n",
    "\n",
    "# popularity=[]\n",
    "# for i in range(0,len(music_list)):\n",
    "#     try:\n",
    "#         year = music_list[i][2]\n",
    "#         track = music_list[i][0]\n",
    "#         artist= music_list[i][1]\n",
    "#      \n",
    "#         song_popularity, artist_popularity= get_popularity(track, artist)\n",
    "#         popularity.append((track, song_popularity, artist_popularity))\n",
    "#     except:\n",
    "#         pass\n",
    "# get_popularity(\"Sicko Mode\", \"Travis Scott\") "
   ]
  },
  {
   "cell_type": "code",
   "execution_count": 47,
   "metadata": {},
   "outputs": [],
   "source": [
    "def get_genre(artist):\n",
    "    import spotipy\n",
    "    import numpy as np\n",
    "    from spotipy.oauth2 import SpotifyClientCredentials\n",
    "    client_credentials_manager = SpotifyClientCredentials(client_id=\"a31e2c1446fd4e6aa11476d8532fc939\",client_secret=\"b52f884f9d4f464eba58daf0d5180ea4\")\n",
    "    from collections import OrderedDict\n",
    "\n",
    "    sp = spotipy.Spotify(client_credentials_manager=client_credentials_manager)\n",
    "    artists=sp.search('artist:'+artist+'*' , type='artist')\n",
    "\n",
    "    try:\n",
    "        artist_genre= artists['artists']['items'][0]['genres']\n",
    "    except:\n",
    "        artist_genre = 0\n",
    "    return artist_genre\n",
    "artist_genre_list=[]\n",
    "for i in range(0,len(music_list)):\n",
    "    try:\n",
    "       \n",
    "        artist= music_list[i][1]\n",
    "     \n",
    "        artist_genre= get_genre(artist)\n",
    "        artist_genre_list.append((artist,artist_genre))\n",
    "    except:\n",
    "        pass\n",
    " "
   ]
  },
  {
   "cell_type": "code",
   "execution_count": 48,
   "metadata": {},
   "outputs": [],
   "source": [
    "# import pandas as pd\n",
    "\n",
    "# df_genre = pd.DataFrame(artist_genre_list)\n",
    "# # df.tail(50)\n",
    "# df_genre.to_excel(\"artist_genre.xlsx\")"
   ]
  },
  {
   "cell_type": "code",
   "execution_count": 40,
   "metadata": {},
   "outputs": [
    {
     "name": "stdout",
     "output_type": "stream",
     "text": [
      "4943\n"
     ]
    }
   ],
   "source": [
    "import pandas as pd\n",
    "data_sp = pd.read_excel(\"spotify_project_final v2.0.xlsx\")\n",
    "# print(len(data_sp))\n",
    "data = data_sp[data_sp[\"Danceability\"] !=0]\n",
    "\n",
    "print(len(data))"
   ]
  },
  {
   "cell_type": "code",
   "execution_count": 41,
   "metadata": {},
   "outputs": [],
   "source": [
    "import matplotlib.pyplot as plt\n",
    "%matplotlib inline\n",
    "import numpy as np\n",
    "import seaborn as sns"
   ]
  },
  {
   "cell_type": "code",
   "execution_count": 42,
   "metadata": {},
   "outputs": [
    {
     "name": "stderr",
     "output_type": "stream",
     "text": [
      "/anaconda3/lib/python3.6/site-packages/ipykernel_launcher.py:12: DeprecationWarning: \n",
      ".ix is deprecated. Please use\n",
      ".loc for label based indexing or\n",
      ".iloc for positional indexing\n",
      "\n",
      "See the documentation here:\n",
      "http://pandas.pydata.org/pandas-docs/stable/indexing.html#ix-indexer-is-deprecated\n",
      "  if sys.path[0] == '':\n"
     ]
    },
    {
     "data": {
      "text/html": [
       "<div>\n",
       "<style scoped>\n",
       "    .dataframe tbody tr th:only-of-type {\n",
       "        vertical-align: middle;\n",
       "    }\n",
       "\n",
       "    .dataframe tbody tr th {\n",
       "        vertical-align: top;\n",
       "    }\n",
       "\n",
       "    .dataframe thead th {\n",
       "        text-align: right;\n",
       "    }\n",
       "</style>\n",
       "<table border=\"1\" class=\"dataframe\">\n",
       "  <thead>\n",
       "    <tr style=\"text-align: right;\">\n",
       "      <th></th>\n",
       "      <th>1960</th>\n",
       "      <th>1961</th>\n",
       "      <th>1962</th>\n",
       "      <th>1963</th>\n",
       "      <th>1964</th>\n",
       "      <th>1965</th>\n",
       "      <th>1966</th>\n",
       "      <th>1967</th>\n",
       "      <th>1968</th>\n",
       "      <th>1969</th>\n",
       "      <th>...</th>\n",
       "      <th>2008</th>\n",
       "      <th>2009</th>\n",
       "      <th>2010</th>\n",
       "      <th>2011</th>\n",
       "      <th>2012</th>\n",
       "      <th>2013</th>\n",
       "      <th>2014</th>\n",
       "      <th>2015</th>\n",
       "      <th>2016</th>\n",
       "      <th>2017</th>\n",
       "    </tr>\n",
       "  </thead>\n",
       "  <tbody>\n",
       "    <tr>\n",
       "      <th>Danceability</th>\n",
       "      <td>0.551031</td>\n",
       "      <td>0.545704</td>\n",
       "      <td>0.550633</td>\n",
       "      <td>0.549887</td>\n",
       "      <td>0.555489</td>\n",
       "      <td>0.552371</td>\n",
       "      <td>0.562542</td>\n",
       "      <td>0.538677</td>\n",
       "      <td>0.563082</td>\n",
       "      <td>0.549755</td>\n",
       "      <td>...</td>\n",
       "      <td>0.621258</td>\n",
       "      <td>0.629130</td>\n",
       "      <td>0.620567</td>\n",
       "      <td>0.624197</td>\n",
       "      <td>0.646480</td>\n",
       "      <td>0.615523</td>\n",
       "      <td>0.606957</td>\n",
       "      <td>0.647833</td>\n",
       "      <td>0.649889</td>\n",
       "      <td>0.696211</td>\n",
       "    </tr>\n",
       "    <tr>\n",
       "      <th>Energy</th>\n",
       "      <td>0.467871</td>\n",
       "      <td>0.474910</td>\n",
       "      <td>0.484974</td>\n",
       "      <td>0.517121</td>\n",
       "      <td>0.568352</td>\n",
       "      <td>0.573124</td>\n",
       "      <td>0.564792</td>\n",
       "      <td>0.531167</td>\n",
       "      <td>0.547804</td>\n",
       "      <td>0.508378</td>\n",
       "      <td>...</td>\n",
       "      <td>0.718015</td>\n",
       "      <td>0.717260</td>\n",
       "      <td>0.730030</td>\n",
       "      <td>0.736970</td>\n",
       "      <td>0.737467</td>\n",
       "      <td>0.708923</td>\n",
       "      <td>0.707174</td>\n",
       "      <td>0.668727</td>\n",
       "      <td>0.627611</td>\n",
       "      <td>0.611456</td>\n",
       "    </tr>\n",
       "    <tr>\n",
       "      <th>Key</th>\n",
       "      <td>5.093750</td>\n",
       "      <td>4.857143</td>\n",
       "      <td>5.408163</td>\n",
       "      <td>5.216495</td>\n",
       "      <td>4.922222</td>\n",
       "      <td>4.886598</td>\n",
       "      <td>5.208333</td>\n",
       "      <td>5.375000</td>\n",
       "      <td>4.938144</td>\n",
       "      <td>5.438776</td>\n",
       "      <td>...</td>\n",
       "      <td>5.909091</td>\n",
       "      <td>5.311688</td>\n",
       "      <td>5.417910</td>\n",
       "      <td>5.606061</td>\n",
       "      <td>5.400000</td>\n",
       "      <td>5.169231</td>\n",
       "      <td>5.681159</td>\n",
       "      <td>5.015152</td>\n",
       "      <td>5.825397</td>\n",
       "      <td>5.263158</td>\n",
       "    </tr>\n",
       "    <tr>\n",
       "      <th>Loudness</th>\n",
       "      <td>-10.717042</td>\n",
       "      <td>-10.910408</td>\n",
       "      <td>-10.299194</td>\n",
       "      <td>-10.228041</td>\n",
       "      <td>-9.647611</td>\n",
       "      <td>-9.527268</td>\n",
       "      <td>-9.971521</td>\n",
       "      <td>-9.737990</td>\n",
       "      <td>-10.378103</td>\n",
       "      <td>-10.974214</td>\n",
       "      <td>...</td>\n",
       "      <td>-5.298485</td>\n",
       "      <td>-5.239403</td>\n",
       "      <td>-5.023209</td>\n",
       "      <td>-5.308848</td>\n",
       "      <td>-5.195667</td>\n",
       "      <td>-5.578738</td>\n",
       "      <td>-5.464000</td>\n",
       "      <td>-5.870864</td>\n",
       "      <td>-6.353254</td>\n",
       "      <td>-6.514298</td>\n",
       "    </tr>\n",
       "    <tr>\n",
       "      <th>Mode</th>\n",
       "      <td>0.854167</td>\n",
       "      <td>0.877551</td>\n",
       "      <td>0.816327</td>\n",
       "      <td>0.865979</td>\n",
       "      <td>0.811111</td>\n",
       "      <td>0.855670</td>\n",
       "      <td>0.812500</td>\n",
       "      <td>0.854167</td>\n",
       "      <td>0.773196</td>\n",
       "      <td>0.714286</td>\n",
       "      <td>...</td>\n",
       "      <td>0.651515</td>\n",
       "      <td>0.701299</td>\n",
       "      <td>0.731343</td>\n",
       "      <td>0.742424</td>\n",
       "      <td>0.640000</td>\n",
       "      <td>0.723077</td>\n",
       "      <td>0.768116</td>\n",
       "      <td>0.681818</td>\n",
       "      <td>0.539683</td>\n",
       "      <td>0.561404</td>\n",
       "    </tr>\n",
       "    <tr>\n",
       "      <th>Speechiness</th>\n",
       "      <td>0.044937</td>\n",
       "      <td>0.062063</td>\n",
       "      <td>0.061243</td>\n",
       "      <td>0.055970</td>\n",
       "      <td>0.051287</td>\n",
       "      <td>0.043029</td>\n",
       "      <td>0.047257</td>\n",
       "      <td>0.040638</td>\n",
       "      <td>0.052971</td>\n",
       "      <td>0.047496</td>\n",
       "      <td>...</td>\n",
       "      <td>0.069036</td>\n",
       "      <td>0.073721</td>\n",
       "      <td>0.078148</td>\n",
       "      <td>0.068779</td>\n",
       "      <td>0.074348</td>\n",
       "      <td>0.063337</td>\n",
       "      <td>0.072077</td>\n",
       "      <td>0.075758</td>\n",
       "      <td>0.116467</td>\n",
       "      <td>0.129486</td>\n",
       "    </tr>\n",
       "    <tr>\n",
       "      <th>Acousticness</th>\n",
       "      <td>0.654333</td>\n",
       "      <td>0.646010</td>\n",
       "      <td>0.618762</td>\n",
       "      <td>0.573362</td>\n",
       "      <td>0.493947</td>\n",
       "      <td>0.445346</td>\n",
       "      <td>0.365832</td>\n",
       "      <td>0.406446</td>\n",
       "      <td>0.380327</td>\n",
       "      <td>0.355482</td>\n",
       "      <td>...</td>\n",
       "      <td>0.129395</td>\n",
       "      <td>0.140850</td>\n",
       "      <td>0.125109</td>\n",
       "      <td>0.114139</td>\n",
       "      <td>0.119668</td>\n",
       "      <td>0.118021</td>\n",
       "      <td>0.160909</td>\n",
       "      <td>0.167805</td>\n",
       "      <td>0.177620</td>\n",
       "      <td>0.151748</td>\n",
       "    </tr>\n",
       "    <tr>\n",
       "      <th>Instrumentalness</th>\n",
       "      <td>0.050696</td>\n",
       "      <td>0.100253</td>\n",
       "      <td>0.089676</td>\n",
       "      <td>0.060225</td>\n",
       "      <td>0.058431</td>\n",
       "      <td>0.048412</td>\n",
       "      <td>0.040888</td>\n",
       "      <td>0.033651</td>\n",
       "      <td>0.097226</td>\n",
       "      <td>0.045004</td>\n",
       "      <td>...</td>\n",
       "      <td>0.006137</td>\n",
       "      <td>0.005651</td>\n",
       "      <td>0.004809</td>\n",
       "      <td>0.027167</td>\n",
       "      <td>0.001374</td>\n",
       "      <td>0.009629</td>\n",
       "      <td>0.023394</td>\n",
       "      <td>0.001310</td>\n",
       "      <td>0.000329</td>\n",
       "      <td>0.004524</td>\n",
       "    </tr>\n",
       "    <tr>\n",
       "      <th>Liveness</th>\n",
       "      <td>0.181199</td>\n",
       "      <td>0.239024</td>\n",
       "      <td>0.198166</td>\n",
       "      <td>0.216604</td>\n",
       "      <td>0.196099</td>\n",
       "      <td>0.207451</td>\n",
       "      <td>0.201025</td>\n",
       "      <td>0.191609</td>\n",
       "      <td>0.212205</td>\n",
       "      <td>0.192888</td>\n",
       "      <td>...</td>\n",
       "      <td>0.167023</td>\n",
       "      <td>0.180582</td>\n",
       "      <td>0.184796</td>\n",
       "      <td>0.188921</td>\n",
       "      <td>0.170508</td>\n",
       "      <td>0.180397</td>\n",
       "      <td>0.175120</td>\n",
       "      <td>0.162379</td>\n",
       "      <td>0.152368</td>\n",
       "      <td>0.131142</td>\n",
       "    </tr>\n",
       "    <tr>\n",
       "      <th>Valence</th>\n",
       "      <td>0.685437</td>\n",
       "      <td>0.684163</td>\n",
       "      <td>0.669388</td>\n",
       "      <td>0.714928</td>\n",
       "      <td>0.697076</td>\n",
       "      <td>0.679763</td>\n",
       "      <td>0.706990</td>\n",
       "      <td>0.650219</td>\n",
       "      <td>0.661905</td>\n",
       "      <td>0.654010</td>\n",
       "      <td>...</td>\n",
       "      <td>0.504177</td>\n",
       "      <td>0.529104</td>\n",
       "      <td>0.553955</td>\n",
       "      <td>0.544858</td>\n",
       "      <td>0.564440</td>\n",
       "      <td>0.519492</td>\n",
       "      <td>0.505723</td>\n",
       "      <td>0.503591</td>\n",
       "      <td>0.469175</td>\n",
       "      <td>0.496177</td>\n",
       "    </tr>\n",
       "    <tr>\n",
       "      <th>Tempo</th>\n",
       "      <td>115.987781</td>\n",
       "      <td>121.702429</td>\n",
       "      <td>121.419582</td>\n",
       "      <td>116.929381</td>\n",
       "      <td>123.353744</td>\n",
       "      <td>120.834361</td>\n",
       "      <td>122.533302</td>\n",
       "      <td>119.836729</td>\n",
       "      <td>117.902608</td>\n",
       "      <td>117.446061</td>\n",
       "      <td>...</td>\n",
       "      <td>127.212364</td>\n",
       "      <td>124.283455</td>\n",
       "      <td>117.680418</td>\n",
       "      <td>128.286197</td>\n",
       "      <td>125.223573</td>\n",
       "      <td>121.304508</td>\n",
       "      <td>124.716623</td>\n",
       "      <td>126.058864</td>\n",
       "      <td>123.289397</td>\n",
       "      <td>118.619789</td>\n",
       "    </tr>\n",
       "    <tr>\n",
       "      <th>Duration_ms</th>\n",
       "      <td>152994.635417</td>\n",
       "      <td>156503.918367</td>\n",
       "      <td>160344.418367</td>\n",
       "      <td>154660.835052</td>\n",
       "      <td>154173.555556</td>\n",
       "      <td>164900.927835</td>\n",
       "      <td>166473.895833</td>\n",
       "      <td>172503.093750</td>\n",
       "      <td>196570.329897</td>\n",
       "      <td>193406.428571</td>\n",
       "      <td>...</td>\n",
       "      <td>232068.969697</td>\n",
       "      <td>235414.233766</td>\n",
       "      <td>233095.283582</td>\n",
       "      <td>230697.393939</td>\n",
       "      <td>224583.453333</td>\n",
       "      <td>226155.138462</td>\n",
       "      <td>234961.043478</td>\n",
       "      <td>214828.136364</td>\n",
       "      <td>222078.333333</td>\n",
       "      <td>215675.421053</td>\n",
       "    </tr>\n",
       "    <tr>\n",
       "      <th>Time_Signature</th>\n",
       "      <td>3.750000</td>\n",
       "      <td>3.795918</td>\n",
       "      <td>3.816327</td>\n",
       "      <td>3.907216</td>\n",
       "      <td>3.855556</td>\n",
       "      <td>3.886598</td>\n",
       "      <td>3.958333</td>\n",
       "      <td>3.927083</td>\n",
       "      <td>3.907216</td>\n",
       "      <td>3.908163</td>\n",
       "      <td>...</td>\n",
       "      <td>4.000000</td>\n",
       "      <td>4.000000</td>\n",
       "      <td>3.970149</td>\n",
       "      <td>4.000000</td>\n",
       "      <td>3.973333</td>\n",
       "      <td>4.030769</td>\n",
       "      <td>4.000000</td>\n",
       "      <td>3.984848</td>\n",
       "      <td>3.968254</td>\n",
       "      <td>3.982456</td>\n",
       "    </tr>\n",
       "    <tr>\n",
       "      <th>Track_Popularity</th>\n",
       "      <td>30.770833</td>\n",
       "      <td>32.908163</td>\n",
       "      <td>31.775510</td>\n",
       "      <td>35.257732</td>\n",
       "      <td>38.066667</td>\n",
       "      <td>41.969072</td>\n",
       "      <td>43.229167</td>\n",
       "      <td>43.583333</td>\n",
       "      <td>42.938144</td>\n",
       "      <td>41.132653</td>\n",
       "      <td>...</td>\n",
       "      <td>59.696970</td>\n",
       "      <td>63.649351</td>\n",
       "      <td>60.164179</td>\n",
       "      <td>60.318182</td>\n",
       "      <td>64.253333</td>\n",
       "      <td>65.292308</td>\n",
       "      <td>64.420290</td>\n",
       "      <td>69.136364</td>\n",
       "      <td>71.269841</td>\n",
       "      <td>76.596491</td>\n",
       "    </tr>\n",
       "    <tr>\n",
       "      <th>Artist_Popularity</th>\n",
       "      <td>43.562500</td>\n",
       "      <td>44.357143</td>\n",
       "      <td>44.173469</td>\n",
       "      <td>46.319588</td>\n",
       "      <td>46.800000</td>\n",
       "      <td>50.257732</td>\n",
       "      <td>52.572917</td>\n",
       "      <td>51.541667</td>\n",
       "      <td>51.268041</td>\n",
       "      <td>52.530612</td>\n",
       "      <td>...</td>\n",
       "      <td>69.621212</td>\n",
       "      <td>77.311688</td>\n",
       "      <td>68.238806</td>\n",
       "      <td>71.500000</td>\n",
       "      <td>75.000000</td>\n",
       "      <td>77.353846</td>\n",
       "      <td>71.826087</td>\n",
       "      <td>78.909091</td>\n",
       "      <td>80.301587</td>\n",
       "      <td>80.596491</td>\n",
       "    </tr>\n",
       "  </tbody>\n",
       "</table>\n",
       "<p>15 rows × 58 columns</p>\n",
       "</div>"
      ],
      "text/plain": [
       "                            1960           1961           1962           1963  \\\n",
       "Danceability            0.551031       0.545704       0.550633       0.549887   \n",
       "Energy                  0.467871       0.474910       0.484974       0.517121   \n",
       "Key                     5.093750       4.857143       5.408163       5.216495   \n",
       "Loudness              -10.717042     -10.910408     -10.299194     -10.228041   \n",
       "Mode                    0.854167       0.877551       0.816327       0.865979   \n",
       "Speechiness             0.044937       0.062063       0.061243       0.055970   \n",
       "Acousticness            0.654333       0.646010       0.618762       0.573362   \n",
       "Instrumentalness        0.050696       0.100253       0.089676       0.060225   \n",
       "Liveness                0.181199       0.239024       0.198166       0.216604   \n",
       "Valence                 0.685437       0.684163       0.669388       0.714928   \n",
       "Tempo                 115.987781     121.702429     121.419582     116.929381   \n",
       "Duration_ms        152994.635417  156503.918367  160344.418367  154660.835052   \n",
       "Time_Signature          3.750000       3.795918       3.816327       3.907216   \n",
       "Track_Popularity       30.770833      32.908163      31.775510      35.257732   \n",
       "Artist_Popularity      43.562500      44.357143      44.173469      46.319588   \n",
       "\n",
       "                            1964           1965           1966           1967  \\\n",
       "Danceability            0.555489       0.552371       0.562542       0.538677   \n",
       "Energy                  0.568352       0.573124       0.564792       0.531167   \n",
       "Key                     4.922222       4.886598       5.208333       5.375000   \n",
       "Loudness               -9.647611      -9.527268      -9.971521      -9.737990   \n",
       "Mode                    0.811111       0.855670       0.812500       0.854167   \n",
       "Speechiness             0.051287       0.043029       0.047257       0.040638   \n",
       "Acousticness            0.493947       0.445346       0.365832       0.406446   \n",
       "Instrumentalness        0.058431       0.048412       0.040888       0.033651   \n",
       "Liveness                0.196099       0.207451       0.201025       0.191609   \n",
       "Valence                 0.697076       0.679763       0.706990       0.650219   \n",
       "Tempo                 123.353744     120.834361     122.533302     119.836729   \n",
       "Duration_ms        154173.555556  164900.927835  166473.895833  172503.093750   \n",
       "Time_Signature          3.855556       3.886598       3.958333       3.927083   \n",
       "Track_Popularity       38.066667      41.969072      43.229167      43.583333   \n",
       "Artist_Popularity      46.800000      50.257732      52.572917      51.541667   \n",
       "\n",
       "                            1968           1969      ...                 2008  \\\n",
       "Danceability            0.563082       0.549755      ...             0.621258   \n",
       "Energy                  0.547804       0.508378      ...             0.718015   \n",
       "Key                     4.938144       5.438776      ...             5.909091   \n",
       "Loudness              -10.378103     -10.974214      ...            -5.298485   \n",
       "Mode                    0.773196       0.714286      ...             0.651515   \n",
       "Speechiness             0.052971       0.047496      ...             0.069036   \n",
       "Acousticness            0.380327       0.355482      ...             0.129395   \n",
       "Instrumentalness        0.097226       0.045004      ...             0.006137   \n",
       "Liveness                0.212205       0.192888      ...             0.167023   \n",
       "Valence                 0.661905       0.654010      ...             0.504177   \n",
       "Tempo                 117.902608     117.446061      ...           127.212364   \n",
       "Duration_ms        196570.329897  193406.428571      ...        232068.969697   \n",
       "Time_Signature          3.907216       3.908163      ...             4.000000   \n",
       "Track_Popularity       42.938144      41.132653      ...            59.696970   \n",
       "Artist_Popularity      51.268041      52.530612      ...            69.621212   \n",
       "\n",
       "                            2009           2010           2011           2012  \\\n",
       "Danceability            0.629130       0.620567       0.624197       0.646480   \n",
       "Energy                  0.717260       0.730030       0.736970       0.737467   \n",
       "Key                     5.311688       5.417910       5.606061       5.400000   \n",
       "Loudness               -5.239403      -5.023209      -5.308848      -5.195667   \n",
       "Mode                    0.701299       0.731343       0.742424       0.640000   \n",
       "Speechiness             0.073721       0.078148       0.068779       0.074348   \n",
       "Acousticness            0.140850       0.125109       0.114139       0.119668   \n",
       "Instrumentalness        0.005651       0.004809       0.027167       0.001374   \n",
       "Liveness                0.180582       0.184796       0.188921       0.170508   \n",
       "Valence                 0.529104       0.553955       0.544858       0.564440   \n",
       "Tempo                 124.283455     117.680418     128.286197     125.223573   \n",
       "Duration_ms        235414.233766  233095.283582  230697.393939  224583.453333   \n",
       "Time_Signature          4.000000       3.970149       4.000000       3.973333   \n",
       "Track_Popularity       63.649351      60.164179      60.318182      64.253333   \n",
       "Artist_Popularity      77.311688      68.238806      71.500000      75.000000   \n",
       "\n",
       "                            2013           2014           2015           2016  \\\n",
       "Danceability            0.615523       0.606957       0.647833       0.649889   \n",
       "Energy                  0.708923       0.707174       0.668727       0.627611   \n",
       "Key                     5.169231       5.681159       5.015152       5.825397   \n",
       "Loudness               -5.578738      -5.464000      -5.870864      -6.353254   \n",
       "Mode                    0.723077       0.768116       0.681818       0.539683   \n",
       "Speechiness             0.063337       0.072077       0.075758       0.116467   \n",
       "Acousticness            0.118021       0.160909       0.167805       0.177620   \n",
       "Instrumentalness        0.009629       0.023394       0.001310       0.000329   \n",
       "Liveness                0.180397       0.175120       0.162379       0.152368   \n",
       "Valence                 0.519492       0.505723       0.503591       0.469175   \n",
       "Tempo                 121.304508     124.716623     126.058864     123.289397   \n",
       "Duration_ms        226155.138462  234961.043478  214828.136364  222078.333333   \n",
       "Time_Signature          4.030769       4.000000       3.984848       3.968254   \n",
       "Track_Popularity       65.292308      64.420290      69.136364      71.269841   \n",
       "Artist_Popularity      77.353846      71.826087      78.909091      80.301587   \n",
       "\n",
       "                            2017  \n",
       "Danceability            0.696211  \n",
       "Energy                  0.611456  \n",
       "Key                     5.263158  \n",
       "Loudness               -6.514298  \n",
       "Mode                    0.561404  \n",
       "Speechiness             0.129486  \n",
       "Acousticness            0.151748  \n",
       "Instrumentalness        0.004524  \n",
       "Liveness                0.131142  \n",
       "Valence                 0.496177  \n",
       "Tempo                 118.619789  \n",
       "Duration_ms        215675.421053  \n",
       "Time_Signature          3.982456  \n",
       "Track_Popularity       76.596491  \n",
       "Artist_Popularity      80.596491  \n",
       "\n",
       "[15 rows x 58 columns]"
      ]
     },
     "execution_count": 42,
     "metadata": {},
     "output_type": "execute_result"
    }
   ],
   "source": [
    "# data = pd.read_excel(\"spotify_project_final.xlsx\")\n",
    "\n",
    "# Create a zeros array to store averages later \n",
    "a=np.zeros((14,58))\n",
    "\n",
    "df = pd.DataFrame(data[data['Year']==1960].mean())\n",
    "means = pd.DataFrame(a, columns=range(1960,2018))\n",
    "\n",
    "for year in range(1960,2018):\n",
    "    df = pd.DataFrame(data[data['Year']==year].mean())\n",
    "    for i in range(0,16):\n",
    "        means.ix[i,year]=df.ix[i,0]\n",
    "means=means.drop([0])\n",
    "\n",
    "indexxx=df.index.values\n",
    "newindex = list(filter(lambda x : x != 'Year', indexxx))\n",
    "\n",
    "means.index=newindex\n",
    "\n",
    "means"
   ]
  },
  {
   "cell_type": "code",
   "execution_count": 10,
   "metadata": {},
   "outputs": [
    {
     "name": "stderr",
     "output_type": "stream",
     "text": [
      "/anaconda3/lib/python3.6/site-packages/ipykernel_launcher.py:1: DeprecationWarning: \n",
      ".ix is deprecated. Please use\n",
      ".loc for label based indexing or\n",
      ".iloc for positional indexing\n",
      "\n",
      "See the documentation here:\n",
      "http://pandas.pydata.org/pandas-docs/stable/indexing.html#ix-indexer-is-deprecated\n",
      "  \"\"\"Entry point for launching an IPython kernel.\n"
     ]
    },
    {
     "data": {
      "text/plain": [
       "<matplotlib.axes._subplots.AxesSubplot at 0x112e4a978>"
      ]
     },
     "execution_count": 10,
     "metadata": {},
     "output_type": "execute_result"
    },
    {
     "data": {
      "image/png": "[encoded data removed]",
      "text/plain": [
       "<Figure size 1440x288 with 1 Axes>"
      ]
     },
     "metadata": {},
     "output_type": "display_data"
    }
   ],
   "source": [
    "y=list(pd.Series(means.ix['Danceability',:]))\n",
    "x=list(range(1960,2018))\n",
    "plt.figure(figsize=(20,4))\n",
    "sns.set_context(rc={\"font.size\":7,\"axes.titlesize\":8,\"axes.labelsize\":5})   \n",
    "\n",
    "sns.barplot(x,y, ci=1)"
   ]
  },
  {
   "cell_type": "code",
   "execution_count": 11,
   "metadata": {},
   "outputs": [
    {
     "name": "stderr",
     "output_type": "stream",
     "text": [
      "/anaconda3/lib/python3.6/site-packages/ipykernel_launcher.py:1: DeprecationWarning: \n",
      ".ix is deprecated. Please use\n",
      ".loc for label based indexing or\n",
      ".iloc for positional indexing\n",
      "\n",
      "See the documentation here:\n",
      "http://pandas.pydata.org/pandas-docs/stable/indexing.html#ix-indexer-is-deprecated\n",
      "  \"\"\"Entry point for launching an IPython kernel.\n"
     ]
    },
    {
     "data": {
      "text/plain": [
       "Text(0,0.5,'Loudness')"
      ]
     },
     "execution_count": 11,
     "metadata": {},
     "output_type": "execute_result"
    },
    {
     "data": {
      "image/png": "[encoded data removed]",
      "text/plain": [
       "<Figure size 1440x288 with 1 Axes>"
      ]
     },
     "metadata": {},
     "output_type": "display_data"
    }
   ],
   "source": [
    "y=list(pd.Series(means.ix['Loudness',:]))\n",
    "x=list(range(1960,2018))\n",
    "plt.figure(figsize=(20,4))\n",
    "sns.set_context(rc={\"font.size\":7,\"axes.titlesize\":8,\"axes.labelsize\":5})   \n",
    "sns.barplot(x,y, ci=1)\n",
    "plt.title('Loudness Vs Years')\n",
    "plt.xlabel('Years')\n",
    "plt.ylabel('Loudness')"
   ]
  },
  {
   "cell_type": "code",
   "execution_count": 12,
   "metadata": {},
   "outputs": [
    {
     "name": "stderr",
     "output_type": "stream",
     "text": [
      "/anaconda3/lib/python3.6/site-packages/ipykernel_launcher.py:1: DeprecationWarning: \n",
      ".ix is deprecated. Please use\n",
      ".loc for label based indexing or\n",
      ".iloc for positional indexing\n",
      "\n",
      "See the documentation here:\n",
      "http://pandas.pydata.org/pandas-docs/stable/indexing.html#ix-indexer-is-deprecated\n",
      "  \"\"\"Entry point for launching an IPython kernel.\n"
     ]
    },
    {
     "data": {
      "text/plain": [
       "Text(0,0.5,'Acousticness')"
      ]
     },
     "execution_count": 12,
     "metadata": {},
     "output_type": "execute_result"
    },
    {
     "data": {
      "image/png": "[encoded data removed]",
      "text/plain": [
       "<Figure size 1440x288 with 1 Axes>"
      ]
     },
     "metadata": {},
     "output_type": "display_data"
    }
   ],
   "source": [
    "y=list(pd.Series(means.ix['Acousticness',:]))\n",
    "sns.set_context(rc={\"font.size\":7,\"axes.titlesize\":8,\"axes.labelsize\":5}) \n",
    "plt.figure(figsize=(20,4))\n",
    "sns.barplot(x,y, ci=1)\n",
    "plt.title('Acousticness Vs Years')\n",
    "plt.xlabel('Years')\n",
    "plt.ylabel('Acousticness')"
   ]
  },
  {
   "cell_type": "code",
   "execution_count": 13,
   "metadata": {},
   "outputs": [
    {
     "name": "stderr",
     "output_type": "stream",
     "text": [
      "/anaconda3/lib/python3.6/site-packages/ipykernel_launcher.py:13: DeprecationWarning: \n",
      ".ix is deprecated. Please use\n",
      ".loc for label based indexing or\n",
      ".iloc for positional indexing\n",
      "\n",
      "See the documentation here:\n",
      "http://pandas.pydata.org/pandas-docs/stable/indexing.html#ix-indexer-is-deprecated\n",
      "  del sys.path[0]\n",
      "/anaconda3/lib/python3.6/site-packages/ipykernel_launcher.py:23: DeprecationWarning: \n",
      ".ix is deprecated. Please use\n",
      ".loc for label based indexing or\n",
      ".iloc for positional indexing\n",
      "\n",
      "See the documentation here:\n",
      "http://pandas.pydata.org/pandas-docs/stable/indexing.html#ix-indexer-is-deprecated\n"
     ]
    },
    {
     "data": {
      "text/plain": [
       "Text(0,0.5,'Instrumentalness')"
      ]
     },
     "execution_count": 13,
     "metadata": {},
     "output_type": "execute_result"
    },
    {
     "data": {
      "image/png": "[encoded data removed]",
      "text/plain": [
       "<Figure size 1440x288 with 1 Axes>"
      ]
     },
     "metadata": {},
     "output_type": "display_data"
    }
   ],
   "source": [
    "# data = pd.read_excel(\"spotify_project_final.xlsx\")\n",
    "\n",
    "# Create a zeros array to store averages later \n",
    "a=np.zeros((14,58))\n",
    "data_in = data_sp[data_sp[\"Instrumentalness\"] !=0]\n",
    "# print(len(data_in))\n",
    "df_i = pd.DataFrame(data_in[data_in['Year']==1960].mean())\n",
    "means_in = pd.DataFrame(a, columns=range(1960,2018))\n",
    "\n",
    "for year in range(1960,2018):\n",
    "    df_i= pd.DataFrame(data_in[data_in['Year']==year].mean())\n",
    "    for i in range(0,16):\n",
    "        means_in.ix[i,year]=df_i.ix[i,0]\n",
    "means_in=means_in.drop([0])\n",
    "\n",
    "indexxx=df_i.index.values\n",
    "newindex = list(filter(lambda x : x != 'Year', indexxx))\n",
    "\n",
    "means_in.index=newindex\n",
    "\n",
    "\n",
    "\n",
    "y=list(pd.Series(means_in.ix['Instrumentalness',:]))\n",
    "sns.set_context(rc={\"font.size\":7,\"axes.titlesize\":8,\"axes.labelsize\":5}) \n",
    "plt.figure(figsize=(20,4))\n",
    "sns.barplot(x,y, ci=1)\n",
    "plt.title('Instrumentalness Vs Years')\n",
    "plt.xlabel('Years')\n",
    "plt.ylabel('Instrumentalness')"
   ]
  },
  {
   "cell_type": "code",
   "execution_count": 14,
   "metadata": {},
   "outputs": [
    {
     "name": "stderr",
     "output_type": "stream",
     "text": [
      "/anaconda3/lib/python3.6/site-packages/ipykernel_launcher.py:1: DeprecationWarning: \n",
      ".ix is deprecated. Please use\n",
      ".loc for label based indexing or\n",
      ".iloc for positional indexing\n",
      "\n",
      "See the documentation here:\n",
      "http://pandas.pydata.org/pandas-docs/stable/indexing.html#ix-indexer-is-deprecated\n",
      "  \"\"\"Entry point for launching an IPython kernel.\n"
     ]
    },
    {
     "data": {
      "text/plain": [
       "Text(0,0.5,'Liveness')"
      ]
     },
     "execution_count": 14,
     "metadata": {},
     "output_type": "execute_result"
    },
    {
     "data": {
      "image/png": "[encoded data removed]",
      "text/plain": [
       "<Figure size 1440x288 with 1 Axes>"
      ]
     },
     "metadata": {},
     "output_type": "display_data"
    }
   ],
   "source": [
    "y=list(pd.Series(means.ix['Liveness',:]))\n",
    "sns.set_context(rc={\"font.size\":7,\"axes.titlesize\":8,\"axes.labelsize\":5}) \n",
    "plt.figure(figsize=(20,4))\n",
    "sns.barplot(x,y, ci=1)\n",
    "plt.title('Liveness Vs Years')\n",
    "plt.xlabel('Years')\n",
    "plt.ylabel('Liveness')"
   ]
  },
  {
   "cell_type": "code",
   "execution_count": 15,
   "metadata": {},
   "outputs": [
    {
     "name": "stderr",
     "output_type": "stream",
     "text": [
      "/anaconda3/lib/python3.6/site-packages/ipykernel_launcher.py:1: DeprecationWarning: \n",
      ".ix is deprecated. Please use\n",
      ".loc for label based indexing or\n",
      ".iloc for positional indexing\n",
      "\n",
      "See the documentation here:\n",
      "http://pandas.pydata.org/pandas-docs/stable/indexing.html#ix-indexer-is-deprecated\n",
      "  \"\"\"Entry point for launching an IPython kernel.\n"
     ]
    },
    {
     "data": {
      "text/plain": [
       "Text(0,0.5,'Valence')"
      ]
     },
     "execution_count": 15,
     "metadata": {},
     "output_type": "execute_result"
    },
    {
     "data": {
      "image/png": "[encoded data removed]",
      "text/plain": [
       "<Figure size 1440x288 with 1 Axes>"
      ]
     },
     "metadata": {},
     "output_type": "display_data"
    }
   ],
   "source": [
    "y=list(pd.Series(means.ix['Valence',:]))\n",
    "sns.set_context(rc={\"font.size\":7,\"axes.titlesize\":8,\"axes.labelsize\":5}) \n",
    "plt.figure(figsize=(20,4))\n",
    "sns.barplot(x,y, ci=1)\n",
    "plt.title('Valence Vs Years')\n",
    "plt.xlabel('Years')\n",
    "plt.ylabel('Valence')"
   ]
  },
  {
   "cell_type": "code",
   "execution_count": 16,
   "metadata": {},
   "outputs": [
    {
     "name": "stderr",
     "output_type": "stream",
     "text": [
      "/anaconda3/lib/python3.6/site-packages/ipykernel_launcher.py:1: DeprecationWarning: \n",
      ".ix is deprecated. Please use\n",
      ".loc for label based indexing or\n",
      ".iloc for positional indexing\n",
      "\n",
      "See the documentation here:\n",
      "http://pandas.pydata.org/pandas-docs/stable/indexing.html#ix-indexer-is-deprecated\n",
      "  \"\"\"Entry point for launching an IPython kernel.\n"
     ]
    },
    {
     "data": {
      "text/plain": [
       "Text(0,0.5,'Speechiness')"
      ]
     },
     "execution_count": 16,
     "metadata": {},
     "output_type": "execute_result"
    },
    {
     "data": {
      "image/png": "[encoded data removed]",
      "text/plain": [
       "<Figure size 1440x288 with 1 Axes>"
      ]
     },
     "metadata": {},
     "output_type": "display_data"
    }
   ],
   "source": [
    "y=list(pd.Series(means.ix['Speechiness',:]))\n",
    "sns.set_context(rc={\"font.size\":7,\"axes.titlesize\":8,\"axes.labelsize\":5}) \n",
    "plt.figure(figsize=(20,4))\n",
    "sns.barplot(x,y, ci=1)\n",
    "plt.title('Speechiness Vs Years')\n",
    "plt.xlabel('Years')\n",
    "plt.ylabel('Speechiness')"
   ]
  },
  {
   "cell_type": "markdown",
   "metadata": {},
   "source": [
    "### AVERAGE ACOUSTICNESS BEFORE AND AFTER 2000"
   ]
  },
  {
   "cell_type": "code",
   "execution_count": 101,
   "metadata": {},
   "outputs": [
    {
     "data": {
      "text/plain": [
       "<matplotlib.axes._subplots.AxesSubplot at 0x1a23cecbe0>"
      ]
     },
     "execution_count": 101,
     "metadata": {},
     "output_type": "execute_result"
    },
    {
     "data": {
      "image/png": "[encoded data removed]",
      "text/plain": [
       "<Figure size 432x288 with 1 Axes>"
      ]
     },
     "metadata": {},
     "output_type": "display_data"
    }
   ],
   "source": [
    "pre=indexed_df[indexed_df[\"Year\"]<2000].Acousticness.mean()\n",
    "post=indexed_df[indexed_df[\"Year\"]>=2000].Acousticness.mean()\n",
    "_list= []\n",
    "_list.append((\" Pre-2000\",pre))\n",
    "_list.append((\"2000 Onwards\", post))\n",
    "smalldf = pd.DataFrame(_list)\n",
    "smalldf.columns =[\"Year\", \"Average Acousticness\"]\n",
    "\n",
    "import seaborn as sns\n",
    "sns.set(style=\"whitegrid\")\n",
    "plt.figure(figsize=(6,4))\n",
    "\n",
    "sns.barplot(x=\"Year\", y=\"Average Acousticness\", data=smalldf)"
   ]
  },
  {
   "cell_type": "markdown",
   "metadata": {},
   "source": [
    "### AVERAGE INSTRUMENTALNESS BEFORE AND AFTER 2000"
   ]
  },
  {
   "cell_type": "code",
   "execution_count": 104,
   "metadata": {},
   "outputs": [
    {
     "data": {
      "text/plain": [
       "<matplotlib.axes._subplots.AxesSubplot at 0x1a238af6d8>"
      ]
     },
     "execution_count": 104,
     "metadata": {},
     "output_type": "execute_result"
    },
    {
     "data": {
      "image/png": "[encoded data removed]",
      "text/plain": [
       "<Figure size 432x288 with 1 Axes>"
      ]
     },
     "metadata": {},
     "output_type": "display_data"
    }
   ],
   "source": [
    "pre=indexed_df[indexed_df[\"Year\"]<2000].Instrumentalness.mean()\n",
    "post=indexed_df[indexed_df[\"Year\"]>=2000].Instrumentalness.mean()\n",
    "_list= []\n",
    "_list.append((\" Pre-2000\",pre))\n",
    "_list.append((\"2000 Onwards\", post))\n",
    "smalldf = pd.DataFrame(_list)\n",
    "smalldf.columns =[\"Year\", \"Average Instrumentalness\"]\n",
    "\n",
    "import seaborn as sns\n",
    "sns.set(style=\"whitegrid\")\n",
    "plt.figure(figsize=(6,4))\n",
    "\n",
    "sns.barplot(x=\"Year\", y=\"Average Instrumentalness\", data=smalldf)"
   ]
  },
  {
   "cell_type": "markdown",
   "metadata": {},
   "source": [
    "### AVERAGE SPEECHINESS BEFORE AND AFTER 2000"
   ]
  },
  {
   "cell_type": "code",
   "execution_count": 106,
   "metadata": {},
   "outputs": [
    {
     "data": {
      "text/plain": [
       "<matplotlib.axes._subplots.AxesSubplot at 0x1a23b7b978>"
      ]
     },
     "execution_count": 106,
     "metadata": {},
     "output_type": "execute_result"
    },
    {
     "data": {
      "image/png": "[encoded data removed]",
      "text/plain": [
       "<Figure size 432x288 with 1 Axes>"
      ]
     },
     "metadata": {},
     "output_type": "display_data"
    }
   ],
   "source": [
    "pre=indexed_df[indexed_df[\"Year\"]<2000].Speechiness.mean()\n",
    "post=indexed_df[indexed_df[\"Year\"]>=2000].Speechiness.mean()\n",
    "_list= []\n",
    "_list.append((\" Pre-2000\",pre))\n",
    "_list.append((\"2000 Onwards\", post))\n",
    "smalldf = pd.DataFrame(_list)\n",
    "smalldf.columns =[\"Year\", \"Average Speechiness\"]\n",
    "\n",
    "import seaborn as sns\n",
    "sns.set(style=\"whitegrid\")\n",
    "plt.figure(figsize=(6,4))\n",
    "\n",
    "sns.barplot(x=\"Year\", y=\"Average Speechiness\", data=smalldf)"
   ]
  },
  {
   "cell_type": "markdown",
   "metadata": {},
   "source": [
    "### AVERAGE LOUDNESS BEFORE AND AFTER 2000"
   ]
  },
  {
   "cell_type": "code",
   "execution_count": 107,
   "metadata": {},
   "outputs": [
    {
     "data": {
      "text/plain": [
       "<matplotlib.axes._subplots.AxesSubplot at 0x1a23c5a6a0>"
      ]
     },
     "execution_count": 107,
     "metadata": {},
     "output_type": "execute_result"
    },
    {
     "data": {
      "image/png": "[encoded data removed]",
      "text/plain": [
       "<Figure size 432x288 with 1 Axes>"
      ]
     },
     "metadata": {},
     "output_type": "display_data"
    }
   ],
   "source": [
    "pre=indexed_df[indexed_df[\"Year\"]<2000].Loudness.mean()\n",
    "post=indexed_df[indexed_df[\"Year\"]>=2000].Loudness.mean()\n",
    "_list= []\n",
    "_list.append((\" Pre-2000\",pre))\n",
    "_list.append((\"2000 Onwards\", post))\n",
    "smalldf = pd.DataFrame(_list)\n",
    "smalldf.columns =[\"Year\", \"Average Loudness\"]\n",
    "\n",
    "import seaborn as sns\n",
    "sns.set(style=\"whitegrid\")\n",
    "plt.figure(figsize=(6,4))\n",
    "\n",
    "sns.barplot(x=\"Year\", y=\"Average Loudness\", data=smalldf)"
   ]
  },
  {
   "cell_type": "code",
   "execution_count": null,
   "metadata": {},
   "outputs": [],
   "source": []
  }
 ],
 "metadata": {
  "kernelspec": {
   "display_name": "Python 3",
   "language": "python",
   "name": "python3"
  },
  "language_info": {
   "codemirror_mode": {
    "name": "ipython",
    "version": 3
   },
   "file_extension": ".py",
   "mimetype": "text/x-python",
   "name": "python",
   "nbconvert_exporter": "python",
   "pygments_lexer": "ipython3",
   "version": "3.6.5"
  }
 },
 "nbformat": 4,
 "nbformat_minor": 2
}
