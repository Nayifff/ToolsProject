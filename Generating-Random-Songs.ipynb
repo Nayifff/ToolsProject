{
 "cells": [
  {
   "cell_type": "markdown",
   "metadata": {},
   "source": [
    "#### We already have the top songs, but at this point we would like to extract 4000 random songs from Spotify"
   ]
  },
  {
   "cell_type": "code",
   "execution_count": null,
   "metadata": {},
   "outputs": [],
   "source": []
  },
  {
   "cell_type": "code",
   "execution_count": 17,
   "metadata": {},
   "outputs": [
    {
     "name": "stderr",
     "output_type": "stream",
     "text": [
      "/Users/Naif/anaconda3/lib/python3.6/site-packages/bs4/__init__.py:181: UserWarning: No parser was explicitly specified, so I'm using the best available HTML parser for this system (\"lxml\"). This usually isn't a problem, but if you run this code on another system, or in a different virtual environment, it may use a different parser and behave differently.\n",
      "\n",
      "The code that caused this warning is on line 193 of the file /Users/Naif/anaconda3/lib/python3.6/runpy.py. To get rid of this warning, change code that looks like this:\n",
      "\n",
      " BeautifulSoup(YOUR_MARKUP})\n",
      "\n",
      "to this:\n",
      "\n",
      " BeautifulSoup(YOUR_MARKUP, \"lxml\")\n",
      "\n",
      "  markup_type=markup_type))\n"
     ]
    },
    {
     "data": {
      "text/plain": [
       "'<!doctype html> <html lang=\"en-US\"> <head> <meta charset=\"UTF-8\"> <meta name=\"viewport\" content=\"width=device-width, initial-scale=1\"> <title>Random Song Generator</title> <meta name=\"description\" content=\"Use us to find random songs and play them on your favorite platform: Spotify, YouTube, LastFM, and more...\" /> <link rel=\"canonical\" href=\"https://www.randomlists.com/random-songs\" /> <meta property=\"og:locale\" content=\"en_US\" /> <meta property=\"og:type\" content=\"website\" /> <meta property=\"og:title\" content=\"Random Song Generator\" /> <meta property=\"og:description\" content=\"Use us to find random songs and play them on your favorite platform: Spotify, YouTube, LastFM, and more...\" /> <meta property=\"og:url\" content=\"https://www.randomlists.com/random-songs\" /> <meta property=\"og:site_name\" content=\"Random Lists\" /> <meta name=\"twitter:card\" content=\"summary_large_image\" /> <meta name=\"twitter:description\" content=\"Use us to find random songs and play them on your favorite platform: Spotify, YouTube, LastFM, and more...\" /> <meta name=\"twitter:title\" content=\"Random Song Generator\" /> <link rel=\"apple-touch-icon\" sizes=\"180x180\" href=\"/apple-touch-icon.png\"> <link rel=\"icon\" type=\"image/png\" sizes=\"32x32\" href=\"/favicon-32x32.png\"> <link rel=\"icon\" type=\"image/png\" sizes=\"16x16\" href=\"/favicon-16x16.png\"> <link rel=\"manifest\" href=\"/manifest.json\"> <link rel=\"mask-icon\" href=\"/safari-pinned-tab.svg\" color=\"#000000\"> <meta name=\"msapplication-TileColor\" content=\"#ffffff\"> <meta name=\"theme-color\" content=\"#ffffff\"> <link rel=\"preload\" data-rand_json=\"0\" href=\"/data/songs.json\" as=\"fetch\"> <style>.Header-content,.layout-main,.main_width{width:100%}@media only screen and (min-width:500px){.Header-content,.layout-main,.main_width{width:calc(100% - 120px - 1rem)}}@media only screen and (min-width:700px){.Header-content,.layout-main,.main_width{width:calc(100% - 160px - 1rem)}}@media only screen and (min-width:900px){.Header-content,.layout-main,.main_width{max-width:calc(100% - 300px - 1rem)}}.Header-content,.layout-main,.main_width{width:100%}@media only screen and (min-width:500px){.Header-content,.layout-main,.main_width{width:calc(100% - 120px - 1rem)}}@media only screen and (min-width:700px){.Header-content,.layout-main,.main_width{width:calc(100% - 160px - 1rem)}}@media only screen and (min-width:900px){.Header-content,.layout-main,.main_width{max-width:calc(100% - 300px - 1rem)}}html{font-size:14px}@media only screen and (min-width:728px){html{font-size:16px}}body{background:#efefea}body,input{margin:0;font-family:Roboto;line-height:1.4em}h1,h2,h3,p{margin-top:0;margin-bottom:1rem}h1,h2,h3{font-family:\"Roboto Condensed\";font-weight:400;line-height:1.1em}h1{font-size:1.8rem}h2{font-size:1.4rem}h3{font-size:1.2rem}strong{font-weight:500}.section_wide,.section_widest{max-width:1400px;margin-left:auto;margin-right:auto;-webkit-box-sizing:border-box;box-sizing:border-box}.section_wide.section_gutter,.section_widest.section_gutter{-webkit-box-sizing:content-box;box-sizing:content-box}.section_wide{max-width:1200px}.section_gutter{padding-left:1rem;padding-right:1rem;-webkit-box-sizing:border-box;box-sizing:border-box}.button{display:-webkit-inline-box;display:-ms-inline-flexbox;display:inline-flex;-webkit-box-orient:vertical;-webkit-box-direction:normal;-ms-flex-direction:column;flex-direction:column;-webkit-box-align:center;-ms-flex-align:center;align-items:center;text-align:center;-webkit-box-pack:center;-ms-flex-pack:center;justify-content:center;text-decoration:none;color:#fff;-webkit-box-sizing:border-box;box-sizing:border-box;border-width:0;background:#0e1a35;cursor:pointer;height:3rem;width:3rem;padding:.1rem;font-size:.5rem;line-height:1em;-webkit-transition:all ease .2s;-o-transition:all ease .2s;transition:all ease .2s;text-transform:uppercase;font-family:Arial}.button:before{font-family:icon;font-size:1.2rem;line-height:1em;margin-bottom:.4rem}.button:focus,.button:hover{background:#284c9b;outline:0}.button--active{background:#00008b;color:#fff}.js_notice{position:fixed;bottom:0;left:0;width:100%;padding:1rem;background:red;color:#fff;text-align:center}.js_notice a{color:currentColor}@font-face{font-family:icon;src:url(/vendor/icomoon/fonts/icomoon.ttf?cq58c7) format(\"truetype\"),url(/vendor/icomoon/fonts/icomoon.woff?cq58c7) format(\"woff\"),url(/vendor/icomoon/fonts/icomoon.svg?cq58c7#icomoon) format(\"svg\");font-weight:400;font-style:normal}.layout{display:-webkit-box;display:-ms-flexbox;display:flex;-ms-flex-wrap:wrap;flex-wrap:wrap;-webkit-box-pack:justify;-ms-flex-pack:justify;justify-content:space-between}.layout-main{background:#fff;-webkit-box-shadow:0 0 1rem rgba(0,0,0,.2);box-shadow:0 0 1rem rgba(0,0,0,.2)}.layout-top{margin:.5rem 0 1.5rem;display:-webkit-box;display:-ms-flexbox;display:flex;-webkit-box-align:center;-ms-flex-align:center;align-items:center;-webkit-box-pack:center;-ms-flex-pack:center;justify-content:center}.adsbygoogle--top{width:320px;min-height:50px;max-height:100px}@media only screen and (min-width:630px){.adsbygoogle--top{width:468px;height:60px;min-height:0;max-height:none}}@media only screen and (min-width:1065px){.adsbygoogle--top{width:728px;height:90px}}.adsbygoogle--side1,.adsbygoogle--side2,.layout-side{display:none}@media only screen and (min-width:500px){.layout-side{display:-webkit-box;display:-ms-flexbox;display:flex;display:block;margin:-2rem 0 0;width:120px}.adsbygoogle--side1,.adsbygoogle--side2{display:block;width:120px;height:600px}}@media only screen and (min-width:700px){.layout-side{width:160px}.adsbygoogle--side1,.adsbygoogle--side2{width:160px;height:600px}}@media only screen and (min-width:900px){.layout-side{width:300px}.adsbygoogle--side1{width:300px;height:250px}.adsbygoogle--side2{width:300px;height:600px}}.Header{background:#182e5e;color:#fff;border-bottom:solid 1px rgba(0,0,0,.1)}.Header a{color:inherit}.Header-content{display:-webkit-box;display:-ms-flexbox;display:flex;height:3rem}.Header-logo{margin-left:-1rem;margin-right:auto}.Header-logo a{display:-webkit-box;display:-ms-flexbox;display:flex;-webkit-box-align:center;-ms-flex-align:center;align-items:center;font-size:1.5rem;line-height:1em;height:3rem;padding:0 1rem;text-decoration:none;white-space:nowrap;position:relative;margin-left:-.2rem}.Header-logo a:before{content:\\'\\';background:url(data:image/svg+xml;base64,PD94bWwgdmVyc2lvbj0iMS4wIiBlbmNvZGluZz0idXRmLTgiPz48c3ZnIHZlcnNpb249IjEuMSIgeG1sbnM9Imh0dHA6Ly93d3cudzMub3JnLzIwMDAvc3ZnIiB4bWxuczp4bGluaz0iaHR0cDovL3d3dy53My5vcmcvMTk5OS94bGluayIgeD0iMHB4IiB5PSIwcHgiIHZpZXdCb3g9IjAgMCAyNCAyNCIgc3R5bGU9ImVuYWJsZS1iYWNrZ3JvdW5kOm5ldyAwIDAgMjQgMjQ7IiB4bWw6c3BhY2U9InByZXNlcnZlIj48cmVjdCB4PSIxIiB5PSIxIiBmaWxsPSIjZmZmIiB3aWR0aD0iMjIiIGhlaWdodD0iMjIiLz48Zz48cGF0aCBkPSJNMjMsMEgxQzAuNCwwLDAsMC40LDAsMXYyMmMwLDAuNiwwLjQsMSwxLDFoMjJjMC42LDAsMS0wLjQsMS0xVjFDMjQsMC40LDIzLjYsMCwyMywweiBNMjIsMjJIMlYyaDIwVjIyeiIvPjxwYXRoIGQ9Ik0xMiwxNGMxLjEsMCwyLTAuOSwyLTJzLTAuOS0yLTItMnMtMiwwLjktMiwyUzEwLjksMTQsMTIsMTR6Ii8+PHBhdGggZD0iTTE3LDE5YzEuMSwwLDItMC45LDItMnMtMC45LTItMi0ycy0yLDAuOS0yLDJTMTUuOSwxOSwxNywxOXoiLz48cGF0aCBkPSJNNyw5YzEuMSwwLDItMC45LDItMlM4LjEsNSw3LDVTNSw1LjksNSw3UzUuOSw5LDcsOXoiLz48cGF0aCBkPSJNMTcsOWMxLjEsMCwyLTAuOSwyLTJzLTAuOS0yLTItMnMtMiwwLjktMiwyUzE1LjksOSwxNyw5eiIvPjxwYXRoIGQ9Ik03LDE5YzEuMSwwLDItMC45LDItMnMtMC45LTItMi0ycy0yLDAuOS0yLDJTNS45LDE5LDcsMTl6Ii8+PC9nPjwvc3ZnPg==) no-repeat 0 0;background-size:1.25rem 1.25rem;width:1.25rem;height:1.25rem;margin-right:.2rem}.Header-menu{display:-webkit-box;display:-ms-flexbox;display:flex;margin-right:-1rem}.Header-menu>a{height:3rem;width:3rem;margin-left:2px}.Header-menu [href*=search]:before{content:\"\\\\e986\"}.Header-menu [href*=browse]:before{content:\"\\\\e901\";margin-bottom:.2rem;line-height:1.4rem}.Header-suggested{margin:0 .4rem 0 0;overflow:hidden;height:3rem;font-size:.9rem}.Header-suggested ul{margin:0;padding:0;list-style:none;display:-webkit-box;display:-ms-flexbox;display:flex;-ms-flex-wrap:wrap;flex-wrap:wrap;display:flex;-webkit-box-pack:end;-ms-flex-pack:end;justify-content:flex-end}.Header-suggested li{display:-webkit-box;display:-ms-flexbox;display:flex;padding:0}.Header-suggested a{display:-webkit-box;display:-ms-flexbox;display:flex;-webkit-box-align:center;-ms-flex-align:center;align-items:center;line-height:1em;height:3rem;padding:0 .5rem}@media only screen and (max-width:620px){.Header-suggested{display:none}}.Header-search{display:none}.Rand-header{margin:2rem 0;display:-webkit-box;display:-ms-flexbox;display:flex;-webkit-box-pack:justify;-ms-flex-pack:justify;justify-content:space-between}.Rand-headline{margin:0 1rem 0 0;-ms-flex-item-align:center;align-self:center}.Rand-tools1{-ms-flex-item-align:start;align-self:flex-start;margin:0;white-space:nowrap}.Rand-tools2{margin:2rem 0;text-align:center}.Rand-ad{display:-webkit-box;display:-ms-flexbox;display:flex;margin:1rem -1rem;-webkit-box-pack:center;-ms-flex-pack:center;justify-content:center}.adsbygoogle--rand{width:300px;height:250px}@media only screen and (min-width:350px){.adsbygoogle--rand{width:336px;height:280px}}@media only screen and (min-width:1065px){.adsbygoogle--rand{width:728px;height:90px}}@media only screen and (min-width:468px){.Rand-grid{display:-webkit-box;display:-ms-flexbox;display:flex;-webkit-box-pack:justify;-ms-flex-pack:justify;justify-content:space-between;-webkit-box-align:start;-ms-flex-align:start;align-items:flex-start}.Rand-grid>*{width:calc(50% - 1.5rem)}}.RandOptions+.RandCopy{padding-top:1rem}.RandOptions{background:rgba(1,1,1,.02);padding:1rem}.RandOptions h2{margin:0 0 1rem}.RandOptions--highlight{background:rgba(1,1,1,.08)!important}.RandOptions-row{margin:0 0 1rem}.RandOptions-row input:not([type=checkbox]),.RandOptions-row textarea{padding:.5rem;-webkit-box-sizing:border-box;box-sizing:border-box}.RandOptions-row label:first-child{display:block;margin-bottom:.1rem}.RandOptions-row input:not(:first-child){display:block}.RandOptions-row textarea{min-height:200px;width:400px;max-width:100%}.RandOptions-row em{display:block;font-size:.7rem;line-height:1.1em;margin-top:.1rem}[data-action=rerun]:before{content:\"\\\\e900\"}[data-action=options]:before{content:\"\\\\e991\"}.Rand-stage-loading{width:100%;text-align:center;font-size:12px;text-indent:.8em;text-transform:uppercase;line-height:1em;background:transparent url(/img/loading.gif) no-repeat 50% .5rem;padding:2rem 1rem 1rem}.Rand-stage--no_images{text-align:left!important}.Rand-stage--no_images .img,.Rand-stage--no_images img{display:none!important}.Rand-stage--highlight{background:rgba(1,1,1,.04)!important}.Rand-stage{display:-webkit-box;display:-ms-flexbox;display:flex;margin:0;background:rgba(1,1,1,.02);padding:1rem .5rem 1rem 0}.Rand-stage ol,.Rand-stage ul{display:-webkit-box;display:-ms-flexbox;display:flex;-ms-flex-wrap:wrap;flex-wrap:wrap;width:100%;margin:0;padding:0;list-style:none}.Rand-stage li{position:relative;margin:0 0 .5rem;padding:.5rem 1rem;-webkit-box-sizing:border-box;box-sizing:border-box;word-break:break-word;min-width:20%}@media only screen and (min-width:900px){.Rand-stage li{min-width:10%}}.Rand-stage ol{counter-reset:li;padding-left:.5rem}.Rand-stage ol>li{position:relative}.Rand-stage ol>li:before{counter-increment:li;content:counter(li);position:absolute;right:calc(100% - .8rem + .5ex);top:calc(.5rem + .5em);font-size:.8rem;line-height:1em;font-family:monospace;opacity:.5;text-align:right;white-space:nowrap}.Rand-stage img{max-width:100%;height:auto}.Rand-stage>ol>li img{display:inline-block;margin:0 0 4px}.Rand-stage>ol>li a.biglink{display:block;padding:0 15px 0 0;text-decoration:none;background:transparent url(/img/new-window.png) no-repeat 100% 90%}span.rand_large,span.rand_medium,span.rand_small{display:block}.rand_huge{font-size:2.5rem;line-height:1.1em}.rand_large{font-size:1.5rem;line-height:1.25em}.rand_medium{font-size:1rem}.rand_small{font-size:.8rem;color:#999}.monospace{font-family:monospace} /*# sourceMappingURL=rand.min.css.map */ .Rand-stage{text-align:center}.Rand-stage>ol>li{width:50%;margin:0;list-style:none;min-width:0!important}@media only screen and (min-width:600px){.Rand-stage>ol>li{width:33%}}@media only screen and (min-width:800px){.Rand-stage>ol>li{width:25%}}.Rand-stage li{display:-webkit-box;display:-ms-flexbox;display:flex;-webkit-box-orient:vertical;-webkit-box-direction:normal;-ms-flex-direction:column;flex-direction:column}.Rand-stage span.img{display:block;margin-bottom:auto}.Rand-stage span.img img{vertical-align:bottom;max-width:100%;width:auto;height:auto;-webkit-box-shadow:2px 2px 4px 0 rgba(0,0,0,.6);box-shadow:2px 2px 4px 0 rgba(0,0,0,.6)}.Rand-stage span.img+span:last-child{margin-bottom:auto}.Rand-stage span.rand_small{display:block;margin-top:.25rem;font-size:12px;line-height:14px;color:#999;font-style:italic}.Rand-stage span.iconrow{display:block;margin-top:auto;padding-top:.5rem}.Rand-stage span.iconrow img{vertical-align:bottom} /*# sourceMappingURL=rand-chunkimg.min.css.map */ </style> <link href=\"/css/defer.min.css?v=1529686588\" rel=\"preload\" type=\"text/css\" as=\"style\" onload=\"this.onload=null;this.rel=\\'stylesheet\\'\"> <noscript><link rel=\"stylesheet\" href=\"/css/defer.min.css?v=1529686588\"></noscript> <link href=\"https://fonts.googleapis.com/css?family=Roboto+Condensed|Roboto:400,500\" rel=\"preload\" type=\"text/css\" as=\"style\" onload=\"this.onload=null;this.rel=\\'stylesheet\\'\"> <noscript><link rel=\"stylesheet\" href=\"https://fonts.googleapis.com/css?family=Roboto+Condensed|Roboto:400,500\"></noscript> <script> (function(){ if(location.search.indexOf(\\'items=\\')>=0){ var style = document.createElement(\"style\"); document.getElementsByTagName(\\'head\\')[0].appendChild(style); style.innerHTML = \".adsbygoogle{display:none !important;height:0 !important;width:0 !important;}\"; } }()); </script> <script async src=\"//pagead2.googlesyndication.com/pagead/js/adsbygoogle.js\"></script> <script> (adsbygoogle = window.adsbygoogle || []).push({ google_ad_client: \"ca-pub-5711305288167877\", enable_page_level_ads: true }); </script> <script src=\"https://ajax.googleapis.com/ajax/libs/jquery/3.3.1/jquery.min.js\" defer></script> <script src=\"/js/main.min.js?v=1540315386\" defer></script> <script src=\"/js/rand-songs.min.js?v=1529956891\" defer></script> </head> <body> <noscript><iframe src=\"//www.googletagmanager.com/ns.html?id=GTM-5TFCRS\" height=\"0\" width=\"0\" style=\"display:none;visibility:hidden\"></iframe></noscript> <script>(function(w,d,s,l,i){w[l]=w[l]||[];w[l].push({\\'gtm.start\\': new Date().getTime(),event:\\'gtm.js\\'});var f=d.getElementsByTagName(s)[0], j=d.createElement(s),dl=l!=\\'dataLayer\\'?\\'&l=\\'+l:\\'\\';j.async=true;j.src= \\'//www.googletagmanager.com/gtm.js?id=\\'+i+dl;f.parentNode.insertBefore(j,f); })(window,document,\\'script\\',\\'dataLayer\\',\\'GTM-5TFCRS\\');</script> <header class=\"Header\"> <div class=\"section_wide\"> <div class=\"Header-content section_gutter\"> <div class=\"Header-logo\"> <a href=\"/\">Random Lists</a> </div> <nav class=\"Header-suggested\"> <ul> <li><a href=\"/random-music\">Music</a></li> <li><a href=\"/random-tv\">TV</a></li> <li><a href=\"/random-video-games\">Video Games</a></li> <li><a href=\"/random-albums\">Albums</a></li> <li><a href=\"/music-videos\">Music Videos</a></li> </ul> </nav> <div class=\"Header-menu\"> <a href=\"/search\" class=\"button\">Search</a> <a href=\"/#browse\" class=\"button\">Menu</a> </div> <div class=\"Header-search\"> <form method=\"get\" action=\"/search\"> <div class=\"Header-search_flex\"> <input type=\"text\" name=\"q\" required placeholder=\"Search&hellip;\"> <button class=\"button\"><span>Search</span></button> </div> </form> </div> </div> </div> </header> <div class=\"layout section_wide\"> <div class=\"layout-main\"> <div class=\"layout-top\"> <ins class=\"adsbygoogle adsbygoogle--top\" style=\"display:inline-block\" data-ad-client=\"ca-pub-5711305288167877\" data-ad-slot=\"3781211666\"></ins> <script> (adsbygoogle = window.adsbygoogle || []).push({}); </script> </div> <div class=\"layout-part3 section_gutter\"> <main> <div class=\"Rand\"> <div class=\"Rand-header\"> <h1 class=\"Rand-headline\">Random Songs:</h1> <div class=\"Rand-tools1\"> <button data-action=\"rerun\" class=\"button\">Rerun</button> <button data-action=\"options\" class=\"button\">Options</button> </div> </div> <div class=\"Rand-stage\"> <div class=\"Rand-stage-loading\"> Loading&hellip; </div> </div> <div class=\"Rand-tools2\"> <button data-action=\"rerun\" class=\"button\">Rerun</button> <button data-action=\"options\" class=\"button\">Options</button> </div> <div class=\"Rand-ad\"> <ins class=\"adsbygoogle adsbygoogle--rand\" style=\"display:inline-block\" data-ad-client=\"ca-pub-5711305288167877\" data-ad-slot=\"1928302466\"></ins> <script> (adsbygoogle = window.adsbygoogle || []).push({}); </script> </div> <div class=\"Rand-grid\"> <div class=\"RandOptions\"> <h2>Edit Settings</h2> <form action=\"#\" id=\"rand_options\"> <p class=\"RandOptions-row\"> <label for=\"rand_options_qty\">Quantity</label> <input id=\"rand_options_qty\" type=\"number\" name=\"qty\" value=\"3\"> <em>Amount of songs to draw.</em> </p> </form> <p><button data-action=\"rerun\" class=\"button\">Rerun</button></p> </div> <div class=\"RandCopy\"> <h2>Play Random Songs</h2> <p>They say that video killed the radio star, but with the latest music players like Spotify and LastFM, a new form of radio is emerging. If you\\'re in the mood to rock out, use the form to generate random songs from the top music charts. With direct links to many of the Internet\\'s most popular sites, you can play the songs on the music players above, watch the music video on YouTube or read lyrics and other information on Google and Wikipedia.</p> </div> </div> </div> <div id=\"rand-image-preload\"></div> <script> var rand = \"songs\"; </script> </main> </div> <div class=\"layout-prefooter\"> <ins class=\"adsbygoogle adsbygoogle--prefooter\" style=\"display:inline-block\" data-ad-client=\"ca-pub-5711305288167877\" data-ad-slot=\"3781211666\"></ins> <script> (adsbygoogle = window.adsbygoogle || []).push({}); </script> </div> <footer class=\"footer section_gutter\"> <nav class=\"Footer-menu\"> <ul> <li><a href=\"/\">Home</a></li> <li><a href=\"/faq\">FAQ</a></li> <li><a href=\"/privacy\">Privacy Policy</a></li> <li><a href=\"/contact\">Contact</a></li> <li><a href=\"/list-randomizer\">Randomize your custom list</a></li> <li class=\"footer-sitemap\"><a href=\"/all\">Sitemap</a></li> </ul> </nav> <p class=\"disclosure\">This site is offered as is to those who visit it. We make no guarantees regarding its services. Just enjoy yourself.</p> </footer> </div> <div class=\"layout-side\"> <ins class=\"adsbygoogle adsbygoogle--side1\" style=\"display:inline-block\" data-ad-client=\"ca-pub-5711305288167877\" data-ad-slot=\"2304478467\"></ins> <script> (adsbygoogle = window.adsbygoogle || []).push({}); </script> <ins class=\"adsbygoogle adsbygoogle--side2\" style=\"display:inline-block\" data-ad-client=\"ca-pub-5711305288167877\" data-ad-slot=\"2304478467\"></ins> <script> (adsbygoogle = window.adsbygoogle || []).push({}); </script> </div> </div> <noscript> <div class=\"js_notice\">You need to enable JavaScript. See: <a href=\"https://www.enable-javascript.com/\" target=\"_blank\">How to enable JavaScript in your browser</a></div> </noscript> </body> </html>'"
      ]
     },
     "execution_count": 17,
     "metadata": {},
     "output_type": "execute_result"
    }
   ],
   "source": [
    "# # https://www.randomlists.com/random-songs?qty=4000\n",
    "\n",
    "\n",
    "# import requests\n",
    "# from bs4 import BeautifulSoup\n",
    "\n",
    "\n",
    "# url = \"https://www.randomlists.com/random-songs?qty=4000\" \n",
    "\n",
    "# response = requests.get(url)\n",
    "# soup = BeautifulSoup(response.text)\n",
    "\n",
    "# for item in soup.select(\".r a\"):\n",
    "#     print (item.text)\n",
    "#     break\n",
    "# response.text"
   ]
  },
  {
   "cell_type": "code",
   "execution_count": 118,
   "metadata": {},
   "outputs": [
    {
     "data": {
      "text/plain": [
       "[{'danceability': 0.276,\n",
       "  'energy': 0.796,\n",
       "  'key': 0,\n",
       "  'loudness': -4.499,\n",
       "  'mode': 1,\n",
       "  'speechiness': 0.0579,\n",
       "  'acousticness': 0.00293,\n",
       "  'instrumentalness': 0,\n",
       "  'liveness': 0.184,\n",
       "  'valence': 0.26,\n",
       "  'tempo': 199.526,\n",
       "  'type': 'audio_features',\n",
       "  'id': '2CgOd0Lj5MuvOqzqdaAXtS',\n",
       "  'uri': 'spotify:track:2CgOd0Lj5MuvOqzqdaAXtS',\n",
       "  'track_href': 'https://api.spotify.com/v1/tracks/2CgOd0Lj5MuvOqzqdaAXtS',\n",
       "  'analysis_url': 'https://api.spotify.com/v1/audio-analysis/2CgOd0Lj5MuvOqzqdaAXtS',\n",
       "  'duration_ms': 218965,\n",
       "  'time_signature': 4}]"
      ]
     },
     "execution_count": 118,
     "metadata": {},
     "output_type": "execute_result"
    }
   ],
   "source": [
    "import random\n",
    "import spotipy\n",
    "from spotipy.oauth2 import SpotifyClientCredentials\n",
    "\n",
    "client_credentials_manager = SpotifyClientCredentials(client_id=\"a31e2c1446fd4e6aa11476d8532fc939\",client_secret=\"b52f884f9d4f464eba58daf0d5180ea4\")\n",
    "sp = spotipy.Spotify(client_credentials_manager=client_credentials_manager)\n",
    "\n",
    "\n",
    "def get_randomsong_features():\n",
    "    \n",
    "    # generate a random offset\n",
    "    rand1to1000 = range(1,1000)\n",
    "    RandomOffset=random.choice(rand1to1000)\n",
    "\n",
    "    songs=sp.search(q='year:2000-2020',limit=1,offset=RandomOffset,type=\"track\",market=\"US\")\n",
    "\n",
    "    items = songs['tracks']['items']\n",
    "    track=items[0]\n",
    "    song_id = str(track[\"id\"])\n",
    "    track_features=sp.audio_features(song_id)\n",
    "    return track_features\n",
    "\n",
    "get_randomsong_features():"
   ]
  },
  {
   "cell_type": "code",
   "execution_count": null,
   "metadata": {},
   "outputs": [],
   "source": [
    "\n",
    "\n"
   ]
  },
  {
   "cell_type": "code",
   "execution_count": null,
   "metadata": {},
   "outputs": [],
   "source": []
  },
  {
   "cell_type": "code",
   "execution_count": null,
   "metadata": {},
   "outputs": [],
   "source": []
  }
 ],
 "metadata": {
  "kernelspec": {
   "display_name": "Python 3",
   "language": "python",
   "name": "python3"
  },
  "language_info": {
   "codemirror_mode": {
    "name": "ipython",
    "version": 3
   },
   "file_extension": ".py",
   "mimetype": "text/x-python",
   "name": "python",
   "nbconvert_exporter": "python",
   "pygments_lexer": "ipython3",
   "version": "3.6.5"
  }
 },
 "nbformat": 4,
 "nbformat_minor": 2
}
