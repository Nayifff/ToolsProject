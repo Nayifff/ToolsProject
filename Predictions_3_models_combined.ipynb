{
 "cells": [
  {
   "cell_type": "markdown",
   "metadata": {},
   "source": [
    "# This sheet has 3 prediction models - Random Forest, XGBoost and SVM"
   ]
  },
  {
   "cell_type": "code",
   "execution_count": 4,
   "metadata": {},
   "outputs": [],
   "source": [
    "import pandas as pd\n",
    "import numpy as np\n",
    "import matplotlib.pyplot as plt\n",
    "from sklearn.ensemble import RandomForestClassifier\n",
    "from sklearn.model_selection import cross_val_score\n",
    "from sklearn.model_selection import train_test_split"
   ]
  },
  {
   "cell_type": "code",
   "execution_count": 5,
   "metadata": {},
   "outputs": [],
   "source": [
    "df = pd.read_csv('compiled_cleaned_songs.csv', sep = ',')\n",
    "df_col = df.columns.values.tolist()\n",
    "y=['Hot']\n",
    "x =[i for i in df_col if i not in y]\n",
    "del x[0:4]\n",
    "X = df[x] #### Covariates\n",
    "Y = df[y] #### Dependable variable"
   ]
  },
  {
   "cell_type": "code",
   "execution_count": 6,
   "metadata": {},
   "outputs": [],
   "source": [
    "###Dummy variables created to handle discrete variables #######\n",
    "col =['Key','Mode','Time_Signature']\n",
    "for feat in col:\n",
    "    col_list='feat'+'_'+ feat\n",
    "    col_list = pd.get_dummies(X[feat], prefix=feat)\n",
    "    X1=X.join(col_list)\n",
    "    X=X1\n",
    "col =['Key','Mode','Time_Signature']\n",
    "X_col =X.columns.values.tolist()\n",
    "final_cols=[i for i in X_col if i not in col]"
   ]
  },
  {
   "cell_type": "code",
   "execution_count": 7,
   "metadata": {},
   "outputs": [],
   "source": [
    "X1 = X[final_cols]\n",
    "X2 = X1.drop(columns=['Key_0', 'Mode_0', 'Time_Signature_0']) #### Final dataframe for analysis"
   ]
  },
  {
   "cell_type": "markdown",
   "metadata": {},
   "source": [
    "###### RANDOM FOREST"
   ]
  },
  {
   "cell_type": "code",
   "execution_count": 67,
   "metadata": {},
   "outputs": [
    {
     "name": "stdout",
     "output_type": "stream",
     "text": [
      "[ True  True  True  True  True  True  True  True  True  True  True  True\n",
      "  True False False False False False False False False False False  True\n",
      " False False False False]\n",
      "[ 1  1  1  1  1  1  1  1  1  1  1  1  1  4 13  7  8  5  2  3  6 10  9  1\n",
      " 15 12 11 14]\n"
     ]
    }
   ],
   "source": [
    "#### Recursive Feature Elimination ####\n",
    "from sklearn.feature_selection import RFE\n",
    "rf = RandomForestClassifier()\n",
    "rfe = RFE(rf)\n",
    "rfe = rfe.fit(X2, Y.values.ravel())\n",
    "print(rfe.support_)\n",
    "print(rfe.ranking_)"
   ]
  },
  {
   "cell_type": "code",
   "execution_count": 68,
   "metadata": {},
   "outputs": [],
   "source": [
    "X2_col = X2.columns.values.tolist()\n",
    "\n",
    "indices = 13,14,15,16,17,18,19,20,21,22,24,25,26,27\n",
    "X2_col_mod = [i for j, i in enumerate(X2_col) if j not in indices]\n",
    "X2_mod = X2[X2_col_mod] ### consists of only significant features ####"
   ]
  },
  {
   "cell_type": "code",
   "execution_count": 71,
   "metadata": {},
   "outputs": [
    {
     "name": "stdout",
     "output_type": "stream",
     "text": [
      "(8663, 14)\n",
      "(8663, 1)\n",
      "(2166, 14)\n",
      "(2166, 1)\n"
     ]
    },
    {
     "data": {
      "text/plain": [
       "RandomForestClassifier(bootstrap=True, class_weight=None, criterion='gini',\n",
       "            max_depth=None, max_features='auto', max_leaf_nodes=None,\n",
       "            min_impurity_decrease=0.0, min_impurity_split=None,\n",
       "            min_samples_leaf=1, min_samples_split=2,\n",
       "            min_weight_fraction_leaf=0.0, n_estimators=10, n_jobs=1,\n",
       "            oob_score=False, random_state=None, verbose=0,\n",
       "            warm_start=False)"
      ]
     },
     "execution_count": 71,
     "metadata": {},
     "output_type": "execute_result"
    }
   ],
   "source": [
    "# split into train and test sets\n",
    "X_train, X_test, y_train, y_test = train_test_split(X2_mod,Y,test_size=0.2)\n",
    "print(X_train.shape)\n",
    "print(y_train.shape)\n",
    "print(X_test.shape)\n",
    "print(y_test.shape)\n",
    "\n",
    "#fit the model\n",
    "rf.fit(X_train,y_train.values.ravel())"
   ]
  },
  {
   "cell_type": "code",
   "execution_count": 72,
   "metadata": {},
   "outputs": [
    {
     "name": "stdout",
     "output_type": "stream",
     "text": [
      "[0.92787074 0.92960185 0.92556261 0.93133295 0.93067591]\n",
      "Mean: 0.8270043332255144\n"
     ]
    }
   ],
   "source": [
    "cv_scores = cross_val_score(rf, X_train, y_train.values.ravel(), cv=5)\n",
    "print(cv_scores)\n",
    "mean_score=scores.mean()\n",
    "print(\"Mean:\", mean_score)"
   ]
  },
  {
   "cell_type": "code",
   "execution_count": 73,
   "metadata": {},
   "outputs": [
    {
     "name": "stdout",
     "output_type": "stream",
     "text": [
      "Accuracy of Random forest classifier on test set: 0.93\n"
     ]
    }
   ],
   "source": [
    "y_pred = rf.predict(X_test)\n",
    "print('Accuracy of Random forest classifier on test set: {:.2f}'.format(rf.score(X_test, y_test)))"
   ]
  },
  {
   "cell_type": "code",
   "execution_count": 74,
   "metadata": {},
   "outputs": [
    {
     "name": "stdout",
     "output_type": "stream",
     "text": [
      "             precision    recall  f1-score   support\n",
      "\n",
      "          0       0.95      0.98      0.96      1958\n",
      "          1       0.75      0.47      0.57       208\n",
      "\n",
      "avg / total       0.93      0.93      0.93      2166\n",
      "\n"
     ]
    }
   ],
   "source": [
    "from sklearn.metrics import classification_report\n",
    "from sklearn.metrics import confusion_matrix\n",
    "print(classification_report(y_test, y_pred))"
   ]
  },
  {
   "cell_type": "code",
   "execution_count": 75,
   "metadata": {},
   "outputs": [
    {
     "name": "stdout",
     "output_type": "stream",
     "text": [
      "[[1925   33]\n",
      " [ 111   97]]\n"
     ]
    }
   ],
   "source": [
    "print(confusion_matrix(y_test, y_pred))"
   ]
  },
  {
   "cell_type": "code",
   "execution_count": 76,
   "metadata": {},
   "outputs": [
    {
     "data": {
      "text/plain": [
       "<matplotlib.legend.Legend at 0x2b6929b9e10>"
      ]
     },
     "execution_count": 76,
     "metadata": {},
     "output_type": "execute_result"
    },
    {
     "data": {
      "image/png": "[encoded data removed]",
      "text/plain": [
       "<Figure size 432x288 with 1 Axes>"
      ]
     },
     "metadata": {},
     "output_type": "display_data"
    }
   ],
   "source": [
    "from sklearn.metrics import roc_auc_score\n",
    "from sklearn.metrics import roc_curve\n",
    "rf_roc_auc = roc_auc_score(y_test, rf.predict(X_test))\n",
    "fpr, tpr, thresholds = roc_curve(y_test, rf.predict_proba(X_test)[:,1])\n",
    "plt.figure()\n",
    "plt.plot(fpr, tpr, label='Random Forest (area = %0.2f)' % rf_roc_auc)\n",
    "plt.plot([0, 1], [0, 1],'r--')\n",
    "plt.xlim([0.0, 1.0])\n",
    "plt.ylim([0.0, 1.05])\n",
    "plt.xlabel('False Positive Rate')\n",
    "plt.ylabel('True Positive Rate')\n",
    "plt.title('Receiver operating characteristic')\n",
    "plt.legend(loc=\"lower right\")"
   ]
  },
  {
   "cell_type": "markdown",
   "metadata": {},
   "source": [
    "###### XGBOOST CLASSIFIER"
   ]
  },
  {
   "cell_type": "code",
   "execution_count": 79,
   "metadata": {},
   "outputs": [
    {
     "name": "stdout",
     "output_type": "stream",
     "text": [
      "[ True  True  True  True  True  True  True  True  True  True  True  True\n",
      " False False False False False False False  True False  True False False\n",
      " False False False False]\n",
      "[ 1  1  1  1  1  1  1  1  1  1  1  1  3 15 14  5 10 11  4  1  8  1  6  7\n",
      "  9  2 12 13]\n"
     ]
    }
   ],
   "source": [
    "#### Recursive Feature Elimination ####\n",
    "from xgboost.sklearn import XGBClassifier\n",
    "\n",
    "xgb = XGBClassifier()\n",
    "rfe = RFE(xgb)\n",
    "rfe = rfe.fit(X2, Y.values.ravel())\n",
    "print(rfe.support_)\n",
    "print(rfe.ranking_)"
   ]
  },
  {
   "cell_type": "code",
   "execution_count": 80,
   "metadata": {},
   "outputs": [],
   "source": [
    "X2_col = X2.columns.values.tolist()\n",
    "\n",
    "indices = 12,13,14,15,16,17,18,20,22,23,24,25,26,27\n",
    "X2_col_mod_1 = [i for j, i in enumerate(X2_col) if j not in indices]\n",
    "X2_mod_1 = X2[X2_col_mod_1]"
   ]
  },
  {
   "cell_type": "code",
   "execution_count": 93,
   "metadata": {},
   "outputs": [
    {
     "name": "stdout",
     "output_type": "stream",
     "text": [
      "(8663, 14)\n",
      "(8663, 1)\n",
      "(2166, 14)\n",
      "(2166, 1)\n"
     ]
    },
    {
     "data": {
      "text/plain": [
       "XGBClassifier(base_score=0.5, booster='gbtree', colsample_bylevel=1,\n",
       "       colsample_bytree=1, gamma=0, learning_rate=0.1, max_delta_step=0,\n",
       "       max_depth=3, min_child_weight=1, missing=None, n_estimators=100,\n",
       "       n_jobs=1, nthread=None, objective='binary:logistic', random_state=0,\n",
       "       reg_alpha=0, reg_lambda=1, scale_pos_weight=1, seed=None,\n",
       "       silent=True, subsample=1)"
      ]
     },
     "execution_count": 93,
     "metadata": {},
     "output_type": "execute_result"
    }
   ],
   "source": [
    "# split into train and test sets\n",
    "X_train1, X_test1, y_train1, y_test1 = train_test_split(X2_mod_1,Y,test_size=0.2)\n",
    "print(X_train1.shape)\n",
    "print(y_train1.shape)\n",
    "print(X_test1.shape)\n",
    "print(y_test1.shape)\n",
    "\n",
    "#fit the model\n",
    "xgb.fit(X_train1,y_train1.values.ravel())"
   ]
  },
  {
   "cell_type": "code",
   "execution_count": 94,
   "metadata": {},
   "outputs": [
    {
     "name": "stderr",
     "output_type": "stream",
     "text": [
      "C:\\Users\\Varun Bhatia\\Anaconda4\\lib\\site-packages\\sklearn\\preprocessing\\label.py:151: DeprecationWarning: The truth value of an empty array is ambiguous. Returning False, but in future this will result in an error. Use `array.size > 0` to check that an array is not empty.\n",
      "  if diff:\n",
      "C:\\Users\\Varun Bhatia\\Anaconda4\\lib\\site-packages\\sklearn\\preprocessing\\label.py:151: DeprecationWarning: The truth value of an empty array is ambiguous. Returning False, but in future this will result in an error. Use `array.size > 0` to check that an array is not empty.\n",
      "  if diff:\n",
      "C:\\Users\\Varun Bhatia\\Anaconda4\\lib\\site-packages\\sklearn\\preprocessing\\label.py:151: DeprecationWarning: The truth value of an empty array is ambiguous. Returning False, but in future this will result in an error. Use `array.size > 0` to check that an array is not empty.\n",
      "  if diff:\n",
      "C:\\Users\\Varun Bhatia\\Anaconda4\\lib\\site-packages\\sklearn\\preprocessing\\label.py:151: DeprecationWarning: The truth value of an empty array is ambiguous. Returning False, but in future this will result in an error. Use `array.size > 0` to check that an array is not empty.\n",
      "  if diff:\n"
     ]
    },
    {
     "name": "stdout",
     "output_type": "stream",
     "text": [
      "[0.93137255 0.93710329 0.93591224 0.94226328 0.9295612 ]\n",
      "Mean: 0.8270043332255144\n"
     ]
    },
    {
     "name": "stderr",
     "output_type": "stream",
     "text": [
      "C:\\Users\\Varun Bhatia\\Anaconda4\\lib\\site-packages\\sklearn\\preprocessing\\label.py:151: DeprecationWarning: The truth value of an empty array is ambiguous. Returning False, but in future this will result in an error. Use `array.size > 0` to check that an array is not empty.\n",
      "  if diff:\n"
     ]
    }
   ],
   "source": [
    "cv_scores = cross_val_score(xgb, X_train1, y_train1.values.ravel(), cv=5)\n",
    "print(cv_scores)\n",
    "mean_score=scores.mean()\n",
    "print(\"Mean:\", mean_score)"
   ]
  },
  {
   "cell_type": "code",
   "execution_count": 95,
   "metadata": {},
   "outputs": [
    {
     "name": "stdout",
     "output_type": "stream",
     "text": [
      "Accuracy of XG Booster classifier on test set: 0.94\n"
     ]
    },
    {
     "name": "stderr",
     "output_type": "stream",
     "text": [
      "C:\\Users\\Varun Bhatia\\Anaconda4\\lib\\site-packages\\sklearn\\preprocessing\\label.py:151: DeprecationWarning: The truth value of an empty array is ambiguous. Returning False, but in future this will result in an error. Use `array.size > 0` to check that an array is not empty.\n",
      "  if diff:\n",
      "C:\\Users\\Varun Bhatia\\Anaconda4\\lib\\site-packages\\sklearn\\preprocessing\\label.py:151: DeprecationWarning: The truth value of an empty array is ambiguous. Returning False, but in future this will result in an error. Use `array.size > 0` to check that an array is not empty.\n",
      "  if diff:\n"
     ]
    }
   ],
   "source": [
    "y_pred1 = xgb.predict(X_test1)\n",
    "print('Accuracy of XG Booster classifier on test set: {:.2f}'.format(xgb.score(X_test1, y_test1)))"
   ]
  },
  {
   "cell_type": "code",
   "execution_count": 96,
   "metadata": {},
   "outputs": [
    {
     "name": "stdout",
     "output_type": "stream",
     "text": [
      "             precision    recall  f1-score   support\n",
      "\n",
      "          0       0.96      0.97      0.96      1955\n",
      "          1       0.70      0.58      0.64       211\n",
      "\n",
      "avg / total       0.93      0.94      0.93      2166\n",
      "\n",
      "[[1903   52]\n",
      " [  88  123]]\n"
     ]
    }
   ],
   "source": [
    "print(classification_report(y_test1, y_pred1))\n",
    "print(confusion_matrix(y_test1, y_pred1))"
   ]
  },
  {
   "cell_type": "code",
   "execution_count": 97,
   "metadata": {},
   "outputs": [
    {
     "name": "stderr",
     "output_type": "stream",
     "text": [
      "C:\\Users\\Varun Bhatia\\Anaconda4\\lib\\site-packages\\sklearn\\preprocessing\\label.py:151: DeprecationWarning: The truth value of an empty array is ambiguous. Returning False, but in future this will result in an error. Use `array.size > 0` to check that an array is not empty.\n",
      "  if diff:\n"
     ]
    },
    {
     "data": {
      "text/plain": [
       "<matplotlib.legend.Legend at 0x2b694466b70>"
      ]
     },
     "execution_count": 97,
     "metadata": {},
     "output_type": "execute_result"
    },
    {
     "data": {
      "image/png": "[encoded data removed]",
      "text/plain": [
       "<Figure size 432x288 with 1 Axes>"
      ]
     },
     "metadata": {},
     "output_type": "display_data"
    }
   ],
   "source": [
    "from sklearn.metrics import roc_auc_score\n",
    "from sklearn.metrics import roc_curve\n",
    "xgb_roc_auc = roc_auc_score(y_test1, xgb.predict(X_test1))\n",
    "fpr, tpr, thresholds = roc_curve(y_test1, xgb.predict_proba(X_test1)[:,1])\n",
    "plt.figure()\n",
    "plt.plot(fpr, tpr, label='XG Booster (area = %0.2f)' % xgb_roc_auc)\n",
    "plt.plot([0, 1], [0, 1],'r--')\n",
    "plt.xlim([0.0, 1.0])\n",
    "plt.ylim([0.0, 1.05])\n",
    "plt.xlabel('False Positive Rate')\n",
    "plt.ylabel('True Positive Rate')\n",
    "plt.title('Receiver operating characteristic')\n",
    "plt.legend(loc=\"lower right\")"
   ]
  },
  {
   "cell_type": "markdown",
   "metadata": {},
   "source": [
    "###### SUPPORT VECTOR MACHINE"
   ]
  },
  {
   "cell_type": "code",
   "execution_count": 8,
   "metadata": {},
   "outputs": [
    {
     "name": "stdout",
     "output_type": "stream",
     "text": [
      "[ True  True  True  True  True  True  True  True False False False False\n",
      " False False False False False False False False  True  True False False\n",
      "  True  True  True  True]\n",
      "[ 1  1  1  1  1  1  1  1  9 11  6 10  3  2 15  5 12  8  4 13  1  1 14  7\n",
      "  1  1  1  1]\n"
     ]
    }
   ],
   "source": [
    "from sklearn.svm import SVC, LinearSVC\n",
    "from sklearn.feature_selection import RFE\n",
    "svc = LinearSVC()\n",
    "rfe = RFE(svc)\n",
    "rfe = rfe.fit(X2, Y.values.ravel())\n",
    "print(rfe.support_)\n",
    "print(rfe.ranking_)"
   ]
  },
  {
   "cell_type": "code",
   "execution_count": 9,
   "metadata": {},
   "outputs": [],
   "source": [
    "X2_col = X2.columns.values.tolist()\n",
    "\n",
    "indices = 8,9,10,11,12,13,14,15,16,17,18,19,22,23\n",
    "X2_col_mod_2 = [i for j, i in enumerate(X2_col) if j not in indices]\n",
    "X2_mod_2 = X2[X2_col_mod_2]"
   ]
  },
  {
   "cell_type": "code",
   "execution_count": 11,
   "metadata": {},
   "outputs": [
    {
     "name": "stdout",
     "output_type": "stream",
     "text": [
      "(8663, 28)\n",
      "(8663, 1)\n",
      "(2166, 28)\n",
      "(2166, 1)\n"
     ]
    },
    {
     "data": {
      "text/plain": [
       "LinearSVC(C=1.0, class_weight=None, dual=True, fit_intercept=True,\n",
       "     intercept_scaling=1, loss='squared_hinge', max_iter=1000,\n",
       "     multi_class='ovr', penalty='l2', random_state=None, tol=0.0001,\n",
       "     verbose=0)"
      ]
     },
     "execution_count": 11,
     "metadata": {},
     "output_type": "execute_result"
    }
   ],
   "source": [
    "from sklearn.svm import SVC, LinearSVC\n",
    "# split into train and test sets\n",
    "X_train2, X_test2, y_train2, y_test2 = train_test_split(X2,Y,test_size=0.2)\n",
    "print(X_train2.shape)\n",
    "print(y_train2.shape)\n",
    "print(X_test2.shape)\n",
    "print(y_test2.shape)\n",
    "\n",
    "#fit the model\n",
    "svc.fit(X_train2,y_train2.values.ravel())"
   ]
  },
  {
   "cell_type": "code",
   "execution_count": 12,
   "metadata": {
    "scrolled": true
   },
   "outputs": [
    {
     "name": "stdout",
     "output_type": "stream",
     "text": [
      "[0.89901904 0.89901904 0.89901904 0.89901904 0.89948007]\n",
      "Mean: 0.8991112475636062\n"
     ]
    }
   ],
   "source": [
    "cv_scores = cross_val_score(svc, X_train2, y_train2.values.ravel(), cv=5)\n",
    "print(cv_scores)\n",
    "mean_score=cv_scores.mean()\n",
    "print(\"Mean:\", mean_score)"
   ]
  },
  {
   "cell_type": "code",
   "execution_count": 13,
   "metadata": {},
   "outputs": [
    {
     "name": "stdout",
     "output_type": "stream",
     "text": [
      "Accuracy of Linear Support Vector Machine Classifier on test set: 0.16\n"
     ]
    }
   ],
   "source": [
    "y_pred2 = svc.predict(X_test2)\n",
    "print('Accuracy of Linear Support Vector Machine Classifier on test set: {:.2f}'.format(svc.score(X_test2, y_test2)))"
   ]
  },
  {
   "cell_type": "code",
   "execution_count": 15,
   "metadata": {},
   "outputs": [
    {
     "name": "stdout",
     "output_type": "stream",
     "text": [
      "             precision    recall  f1-score   support\n",
      "\n",
      "          0       0.99      0.07      0.13      1953\n",
      "          1       0.10      0.99      0.19       213\n",
      "\n",
      "avg / total       0.90      0.16      0.13      2166\n",
      "\n",
      "[[ 132 1821]\n",
      " [   2  211]]\n"
     ]
    }
   ],
   "source": [
    "from sklearn.metrics import classification_report\n",
    "from sklearn.metrics import confusion_matrix\n",
    "\n",
    "print(classification_report(y_test2, y_pred2))\n",
    "print(confusion_matrix(y_test2, y_pred2))"
   ]
  },
  {
   "cell_type": "code",
   "execution_count": null,
   "metadata": {},
   "outputs": [],
   "source": []
  }
 ],
 "metadata": {
  "kernelspec": {
   "display_name": "Python 3",
   "language": "python",
   "name": "python3"
  }
 },
 "nbformat": 4,
 "nbformat_minor": 2
}
