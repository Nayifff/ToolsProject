{
 "cells": [
  {
   "cell_type": "markdown",
   "metadata": {},
   "source": [
    "## We already have the top songs, but at this point we would like to extract 5000 random songs from Spotify\n",
    "#### Work by: Naif "
   ]
  },
  {
   "cell_type": "markdown",
   "metadata": {},
   "source": [
    "#### 1) Create a function to extract random songs "
   ]
  },
  {
   "cell_type": "code",
   "execution_count": 208,
   "metadata": {},
   "outputs": [],
   "source": [
    "import random\n",
    "import spotipy\n",
    "from spotipy.oauth2 import SpotifyClientCredentials\n",
    "import numpy as np\n",
    "\n",
    "client_credentials_manager = SpotifyClientCredentials(client_id=\"a31e2c1446fd4e6aa11476d8532fc939\",client_secret=\"b52f884f9d4f464eba58daf0d5180ea4\")\n",
    "sp = spotipy.Spotify(client_credentials_manager=client_credentials_manager)\n",
    "\n",
    "\n",
    "def get_randomsong_features():\n",
    "    \n",
    "    randomSongsArray = ['%25a%25', 'a%25', '%25a',\n",
    "                        '%25e%25', 'e%25', '%25e',\n",
    "                        '%25i%25', 'i%25', '%25i',\n",
    "                        '%25o%25', 'o%25', '%25o',\n",
    "                        '%25u%25', 'u%25', '%25u']\n",
    "    randomSongs = random.choice(randomSongsArray)\n",
    "    \n",
    "    # generate a random offset\n",
    "    rand1to1000 = range(1,1000)\n",
    "    RandomOffset=random.choice(rand1to1000)\n",
    "\n",
    "    songs=sp.search(q='year:2000-2020',limit=1,offset=RandomOffset,type=\"track\",market=\"US\")\n",
    "\n",
    "    items = songs['tracks']['items']\n",
    "    track=items[0]\n",
    "    song_id = str(track[\"id\"])\n",
    "    track_features=sp.audio_features(song_id)\n",
    "    features = np.array(track_features)[0]\n",
    "    gettrack=features['uri']\n",
    "    track_info = sp.track(gettrack)\n",
    "    artist_name = artist_name = track_info['album']['artists'][0]['name']\n",
    "    track_name = track_info['album']['name']\n",
    "    track_year = track_info['album']['release_date'][0:4]\n",
    "    return features\n"
   ]
  },
  {
   "cell_type": "markdown",
   "metadata": {},
   "source": [
    "##### For loop for 5000 and append to a list "
   ]
  },
  {
   "cell_type": "code",
   "execution_count": null,
   "metadata": {},
   "outputs": [],
   "source": [
    "songs_features=[]\n",
    "for i in range(0,5000):\n",
    "    danceability, energy, key, loudness, mode,speechiness,acousticness, instrumentalness, liveness, valence, tempo, type_, id_,uri, track_href,analysis_url,duration_ms, time_signature=get_randomsong_features().values()\n",
    "    track_info = sp.track(uri)\n",
    "    artist_name = artist_name = track_info['album']['artists'][0]['name']\n",
    "    track_name = track_info['album']['name']\n",
    "    track_year = track_info['album']['release_date'][0:4]\n",
    "    songs_features.append((track_year,artist_name,track_name,danceability, energy, key, loudness, mode, speechiness,acousticness, instrumentalness, liveness, valence, tempo,duration_ms, time_signature))"
   ]
  },
  {
   "cell_type": "code",
   "execution_count": 226,
   "metadata": {},
   "outputs": [
    {
     "data": {
      "text/html": [
       "<div>\n",
       "<style scoped>\n",
       "    .dataframe tbody tr th:only-of-type {\n",
       "        vertical-align: middle;\n",
       "    }\n",
       "\n",
       "    .dataframe tbody tr th {\n",
       "        vertical-align: top;\n",
       "    }\n",
       "\n",
       "    .dataframe thead th {\n",
       "        text-align: right;\n",
       "    }\n",
       "</style>\n",
       "<table border=\"1\" class=\"dataframe\">\n",
       "  <thead>\n",
       "    <tr style=\"text-align: right;\">\n",
       "      <th></th>\n",
       "      <th>Year</th>\n",
       "      <th>Artist</th>\n",
       "      <th>Track</th>\n",
       "      <th>Danceability</th>\n",
       "      <th>Energy</th>\n",
       "      <th>Key</th>\n",
       "      <th>Loudness</th>\n",
       "      <th>Mode</th>\n",
       "      <th>Speechiness</th>\n",
       "      <th>Acousticness</th>\n",
       "      <th>Instrumentalness</th>\n",
       "      <th>Liveness</th>\n",
       "      <th>Valence</th>\n",
       "      <th>Tempo</th>\n",
       "      <th>Duration_ms</th>\n",
       "      <th>Time_Signature</th>\n",
       "    </tr>\n",
       "  </thead>\n",
       "  <tbody>\n",
       "    <tr>\n",
       "      <th>0</th>\n",
       "      <td>2018</td>\n",
       "      <td>Russ</td>\n",
       "      <td>Back To Life</td>\n",
       "      <td>0.777</td>\n",
       "      <td>0.579</td>\n",
       "      <td>4</td>\n",
       "      <td>-6.693</td>\n",
       "      <td>1</td>\n",
       "      <td>0.2880</td>\n",
       "      <td>0.352</td>\n",
       "      <td>0.000000</td>\n",
       "      <td>0.124</td>\n",
       "      <td>0.748</td>\n",
       "      <td>88.015</td>\n",
       "      <td>197360</td>\n",
       "      <td>4</td>\n",
       "    </tr>\n",
       "    <tr>\n",
       "      <th>1</th>\n",
       "      <td>2015</td>\n",
       "      <td>Tim McGraw</td>\n",
       "      <td>Damn Country Music</td>\n",
       "      <td>0.355</td>\n",
       "      <td>0.480</td>\n",
       "      <td>11</td>\n",
       "      <td>-7.310</td>\n",
       "      <td>1</td>\n",
       "      <td>0.0282</td>\n",
       "      <td>0.679</td>\n",
       "      <td>0.000002</td>\n",
       "      <td>0.120</td>\n",
       "      <td>0.137</td>\n",
       "      <td>100.956</td>\n",
       "      <td>259267</td>\n",
       "      <td>3</td>\n",
       "    </tr>\n",
       "  </tbody>\n",
       "</table>\n",
       "</div>"
      ],
      "text/plain": [
       "   Year      Artist               Track  Danceability  Energy  Key  Loudness  \\\n",
       "0  2018        Russ        Back To Life         0.777   0.579    4    -6.693   \n",
       "1  2015  Tim McGraw  Damn Country Music         0.355   0.480   11    -7.310   \n",
       "\n",
       "   Mode  Speechiness  Acousticness  Instrumentalness  Liveness  Valence  \\\n",
       "0     1       0.2880         0.352          0.000000     0.124    0.748   \n",
       "1     1       0.0282         0.679          0.000002     0.120    0.137   \n",
       "\n",
       "     Tempo  Duration_ms  Time_Signature  \n",
       "0   88.015       197360               4  \n",
       "1  100.956       259267               3  "
      ]
     },
     "execution_count": 226,
     "metadata": {},
     "output_type": "execute_result"
    }
   ],
   "source": [
    "# Create a DataFrame \n",
    "columns_ = [\"Year\", \"Artist\", \"Track\", \"Danceability\",\"Energy\", \"Key\", \"Loudness\", \"Mode\", \"Speechiness\", \"Acousticness\",\n",
    "          \"Instrumentalness\", \"Liveness\", \"Valence\", \"Tempo\", \"Duration_ms\", \"Time Signature\"]\n",
    "df =pd.DataFrame(songs_features, columns=columns_)\n",
    "df"
   ]
  },
  {
   "cell_type": "code",
   "execution_count": 223,
   "metadata": {},
   "outputs": [
    {
     "data": {
      "text/plain": [
       "dict_values([0.679, 0.684, 6, -8.559, 1, 0.278, 0.0527, 0.000895, 0.177, 0.755, 151.748, 'audio_features', '6ScJMrlpiLfZUGtWp4QIVt', 'spotify:track:6ScJMrlpiLfZUGtWp4QIVt', 'https://api.spotify.com/v1/tracks/6ScJMrlpiLfZUGtWp4QIVt', 'https://api.spotify.com/v1/audio-analysis/6ScJMrlpiLfZUGtWp4QIVt', 221840, 4])"
      ]
     },
     "execution_count": 223,
     "metadata": {},
     "output_type": "execute_result"
    }
   ],
   "source": [
    "df.to_csv(\"random5000songs.csv\", sep='\\t')"
   ]
  },
  {
   "cell_type": "code",
   "execution_count": null,
   "metadata": {},
   "outputs": [],
   "source": []
  }
 ],
 "metadata": {
  "kernelspec": {
   "display_name": "Python 3",
   "language": "python",
   "name": "python3"
  },
  "language_info": {
   "codemirror_mode": {
    "name": "ipython",
    "version": 3
   },
   "file_extension": ".py",
   "mimetype": "text/x-python",
   "name": "python",
   "nbconvert_exporter": "python",
   "pygments_lexer": "ipython3",
   "version": "3.6.5"
  }
 },
 "nbformat": 4,
 "nbformat_minor": 2
}
